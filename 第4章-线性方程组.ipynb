{
 "cells": [
  {
   "cell_type": "code",
   "execution_count": 1,
   "metadata": {},
   "outputs": [],
   "source": [
    "import matplotlib.pyplot as plt\n",
    "import numpy as np\n",
    "from mpl_toolkits.mplot3d import Axes3D\n",
    "import sympy as sy\n",
    "sy.init_printing() \n",
    "plt.rxParams['font.sans-serif']=['SimHei'] #用来正常显示中文标签\n",
    "plt.rcParams['axes.unicode_minus']=False  #用来正常显示负号"
   ]
  },
  {
   "cell_type": "markdown",
   "metadata": {},
   "source": [
    "# <font face=\"黑体\" color=\"purple\"> 线性方程组</font>"
   ]
  },
  {
   "cell_type": "markdown",
   "metadata": {},
   "source": [
    "## <font face=\"黑体\" color=DarkViolet> 齐次方程组</font>"
   ]
  },
  {
   "cell_type": "markdown",
   "metadata": {},
   "source": [
    "形如下列的一组方程组，称为齐次方程组$AX=0$"
   ]
  },
  {
   "cell_type": "markdown",
   "metadata": {},
   "source": [
    "$$\n",
    "\\left\\{\\begin{array}{l}\n",
    "a_{11} x_{1}+a_{12} x_{2}+\\cdots+a_{1 n} x_{n}=0 \\\\\n",
    "a_{21} x_{1}+a_{22} x_{2}+\\cdots+a_{2 n} x_{n}=0 \\\\\n",
    "a_{m 1} {x_{1}}+a_{m 2} x_{2}+\\cdots+a_{m n} x_{n}=0\n",
    "\\end{array}\\right.\n",
    "$$"
   ]
  },
  {
   "cell_type": "markdown",
   "metadata": {},
   "source": [
    "$$\n",
    "x_{1}=0, x_{2}=0, \\ldots, x_{n}=0\n",
    "$$\n",
    "必是其一个解，称为零解"
   ]
  },
  {
   "cell_type": "markdown",
   "metadata": {},
   "source": [
    "定理1: $A_{m×n}$ =0有非零解 $\\iff$ r(A)<n $\\iff$ A的列向量组线性相关 <br>\n",
    "\n",
    "定理2:若$AX=0$系数矩阵的秩r(A)=r<n，则$AX=0$有n-r个线性无关的解,且$AX=0$的任一个解都可由这n-r线性无关的解线性标出 <br>\n",
    "\n",
    "定理3:\n",
    "$\\eta_1+...+\\eta_m$是Ax=0的基础解系，\n",
    "则齐次方程组Ax=O的通解为:$k_1\\eta_1+...+k_m\\eta_m$, $k\\eta$为任意常数)\n",
    "\n"
   ]
  },
  {
   "cell_type": "markdown",
   "metadata": {},
   "source": [
    "## <font faxe=\"黑体\" color=DarkViolet> 非齐次方程组</font>"
   ]
  },
  {
   "cell_type": "markdown",
   "metadata": {},
   "source": [
    "形如下列的一组方程组，称为非齐次方程组$AX=b$"
   ]
  },
  {
   "cell_type": "markdown",
   "metadata": {},
   "source": [
    "$$\n",
    "\\left\\{\\begin{array}{l}\n",
    "a_{11} x_{1}+a_{12} x_{2}+\\cdots+a_{1 n} x_{n}=b_1 \\\\\n",
    "a_{21} x_{1}+a_{22} x_{2}+\\cdots+a_{2 n} x_{n}=b_2 \\\\\n",
    "a_{m 1} {x_{1}}+a_{m 2} x_{2}+\\cdots+a_{m n} x_{n}=b_3\n",
    "\\end{array}\\right.\n",
    "$$"
   ]
  },
  {
   "cell_type": "markdown",
   "metadata": {},
   "source": [
    "1.当$r(A)=r(\\bar{A})=n$时方程组有唯一解<br>\n",
    "2.当$r(A)=r(\\bar{A})<n$时方差组有无穷多解 <br>\n",
    "3.当$r(A)+1=r(\\bar{A})$时方差组无解\n"
   ]
  },
  {
   "cell_type": "markdown",
   "metadata": {},
   "source": [
    "### <font face=\"黑体\" color=DarkViolet> 解的结构</font>"
   ]
  },
  {
   "cell_type": "markdown",
   "metadata": {},
   "source": [
    "对于上述方程组，若$\\alpha$ 是方程组 $A x=b$ 的解， $\\eta_{1} \\eta_{2} \\ldots \\eta_{t}$ 是导出组 $Ax=0$ 的基础解系，则\n",
    "$\\mathrm{Ax}=\\mathrm{b}$ 通解为\n",
    "$$\n",
    "\\alpha+k_{1} \\eta_{1}+k_{2} \\eta_{2}+\\cdots+k_{t} \\eta_{t}\n",
    "$$"
   ]
  },
  {
   "cell_type": "markdown",
   "metadata": {},
   "source": [
    "### <font face=\"黑体\" color=Black> 使用sym库解方程组</font>"
   ]
  },
  {
   "cell_type": "markdown",
   "metadata": {},
   "source": [
    "有以下方程组\n",
    "$$\n",
    "\\left\\{\\begin{array}{l}\n",
    "x_{1}+2 x_{2}+x_{3}=4\\\\\n",
    "2 x_{1}+x_{2}-x_{3}=5\\\\\n",
    "-x_{1}-x_{2}-x_{3}=-2\\\\\n",
    "\\end{array}\\right.\n",
    "$$"
   ]
  },
  {
   "cell_type": "markdown",
   "metadata": {},
   "source": [
    "改写成矩阵形式"
   ]
  },
  {
   "cell_type": "markdown",
   "metadata": {},
   "source": [
    "$$\n",
    "\\left[\\begin{array}{cccc}\n",
    "1 & 2 & 1 & 3 \\\\\n",
    "2 & 1 & -1 & 5 \\\\\n",
    "-1 & -1 & -1 & -2 \\\\\n",
    "\\end{array}\\right]\n",
    "$$"
   ]
  },
  {
   "cell_type": "code",
   "execution_count": 6,
   "metadata": {},
   "outputs": [
    {
     "data": {
      "text/latex": [
       "$\\displaystyle \\left( \\left[\\begin{matrix}1 & 0 & 0 & 1\\\\0 & 1 & 0 & 2\\\\0 & 0 & 1 & -1\\end{matrix}\\right], \\  \\left( 0, \\  1, \\  2\\right)\\right)$"
      ],
      "text/plain": [
       "⎛⎡1  0  0  1 ⎤           ⎞\n",
       "⎜⎢           ⎥           ⎟\n",
       "⎜⎢0  1  0  2 ⎥, (0, 1, 2)⎟\n",
       "⎜⎢           ⎥           ⎟\n",
       "⎝⎣0  0  1  -1⎦           ⎠"
      ]
     },
     "execution_count": 6,
     "metadata": {},
     "output_type": "execute_result"
    }
   ],
   "source": [
    "A = sy.Matrix([[1, 2, 1, 4], [2, 1, -1, 5],[-1,-1,-1,-2]])\n",
    "A.rref()\n"
   ]
  },
  {
   "cell_type": "markdown",
   "metadata": {},
   "source": [
    "该方程组未知数个数与方程个数相同，即$r(A)=r(\\bar{A})=n$，所以有唯一解。根据输出可以得到结果为 $(x_1, x_2, x_3)^T = (1, 2, -1)^T$"
   ]
  },
  {
   "cell_type": "markdown",
   "metadata": {},
   "source": [
    "### <font face=\"黑体\" color=Black> 解带符号的方程组</font>\n"
   ]
  },
  {
   "cell_type": "markdown",
   "metadata": {},
   "source": [
    "有以下方程组"
   ]
  },
  {
   "cell_type": "markdown",
   "metadata": {},
   "source": [
    "$$\n",
    "\\left\\{\\begin{array}{l}\n",
    "x_{1}+3 x_{2}+2 x_{3}+x_{4}=1 \\\\\n",
    "x_{2}+a x_{3}-a x_{4}=-1 \\\\\n",
    "x_{1}+2 x_{2}+3 x_{4}=3\n",
    "\\end{array}\\right.\n",
    "$$"
   ]
  },
  {
   "cell_type": "markdown",
   "metadata": {},
   "source": [
    "改写为矩阵形式"
   ]
  },
  {
   "cell_type": "markdown",
   "metadata": {},
   "source": [
    "$$\n",
    "\\left[\\begin{array}{cccc}\n",
    "1 & 3 & 2 & 1 & 1 \\\\\n",
    "0 & 1 & a & -a & -1 \\\\\n",
    "1 & 2 & 0 & 3 & 3 \\\\\n",
    "\\end{array}\\right]\n",
    "$$"
   ]
  },
  {
   "cell_type": "code",
   "execution_count": 7,
   "metadata": {},
   "outputs": [
    {
     "data": {
      "text/latex": [
       "$\\displaystyle \\left( \\left[\\begin{matrix}1 & 0 & 0 & 3 & \\frac{7 a - 10}{a - 2}\\\\0 & 1 & 0 & 0 & \\frac{2 - 2 a}{a - 2}\\\\0 & 0 & 1 & \\frac{2 - a}{a - 2} & \\frac{1}{a - 2}\\end{matrix}\\right], \\  \\left( 0, \\  1, \\  2\\right)\\right)$"
      ],
      "text/plain": [
       "⎛⎡                7⋅a - 10⎤           ⎞\n",
       "⎜⎢1  0  0    3    ────────⎥           ⎟\n",
       "⎜⎢                 a - 2  ⎥           ⎟\n",
       "⎜⎢                        ⎥           ⎟\n",
       "⎜⎢                2 - 2⋅a ⎥           ⎟\n",
       "⎜⎢0  1  0    0    ─────── ⎥, (0, 1, 2)⎟\n",
       "⎜⎢                 a - 2  ⎥           ⎟\n",
       "⎜⎢                        ⎥           ⎟\n",
       "⎜⎢         2 - a     1    ⎥           ⎟\n",
       "⎜⎢0  0  1  ─────   ─────  ⎥           ⎟\n",
       "⎝⎣         a - 2   a - 2  ⎦           ⎠"
      ]
     },
     "execution_count": 7,
     "metadata": {},
     "output_type": "execute_result"
    }
   ],
   "source": [
    "a= sy.symbols('a', real = True)\n",
    "A = sy.Matrix([[1, 3, 2, 1, 1], [0, 1, a, -a,-1],[1,2,0,3,3]])\n",
    "A.rref()"
   ]
  },
  {
   "cell_type": "markdown",
   "metadata": {},
   "source": [
    "由输出可看出\n",
    "1.当$ a=2 $,r(A)=2,r(A)=3，方程无解<br>\n",
    "2.当$ a\\not=2 $时，,r(A)=r(A)=3<4，方程组有无穷解<br>\n",
    "3.其余情况$r(A)=r(\\bar{A})<n$，有无数解，$x_4$为自由变量。\n",
    "此时，特解$\\alpha=\\left(\\frac{7 a-10}{a-2}, \\frac{2-2 a}{a-2}, \\frac{1}{a-2}, 0\\right)^{T}$，基础解系$\\eta=(-3,0,1,1)^{T}$"
   ]
  }
 ],
 "metadata": {
  "interpreter": {
   "hash": "dad3c9bb3395e9c9b000084f6e10e64d38efd4d6b8e1a269ed24faa812c19d54"
  },
  "kernelspec": {
   "display_name": "Python 3 (ipykernel)",
   "language": "python",
   "name": "python3"
  },
  "language_info": {
   "codemirror_mode": {
    "name": "ipython",
    "version": 3
   },
   "file_extension": ".py",
   "mimetype": "text/x-python",
   "name": "python",
   "nbconvert_exporter": "python",
   "pygments_lexer": "ipython3",
   "version": "3.9.9"
  }
 },
 "nbformat": 4,
 "nbformat_minor": 4
}
