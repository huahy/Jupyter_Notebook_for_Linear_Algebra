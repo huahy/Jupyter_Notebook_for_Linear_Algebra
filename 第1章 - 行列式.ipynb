{
 "cells": [
  {
   "cell_type": "code",
   "execution_count": 75,
   "id": "145e794a-9228-4dda-b051-cec563042588",
   "metadata": {},
   "outputs": [],
   "source": [
    "import matplotlib.pyplot as plt\n",
    "import numpy as np\n",
    "import scipy as sp\n",
    "import scipy.linalg\n",
    "import sympy as sy\n",
    "sy.init_printing() "
   ]
  },
  {
   "cell_type": "code",
   "execution_count": 76,
   "id": "87e6b6b3-e708-463d-b913-7e2c314edae0",
   "metadata": {},
   "outputs": [],
   "source": [
    "np.set_printoptions(precision=3)\n",
    "np.set_printoptions(suppress=True)"
   ]
  },
  {
   "cell_type": "code",
   "execution_count": 77,
   "id": "c44a2e40-dc10-4dde-a5a4-7fa716b2b3eb",
   "metadata": {},
   "outputs": [],
   "source": [
    "from IPython.core.interactiveshell import InteractiveShell\n",
    "InteractiveShell.ast_node_interactivity = \"all\""
   ]
  },
  {
   "cell_type": "code",
   "execution_count": 78,
   "id": "986c169d-48e6-4614-a650-b69d56f88837",
   "metadata": {},
   "outputs": [],
   "source": [
    "def round_expr(expr, num_digits):\n",
    "    return expr.xreplace({n : round(n, num_digits) for n in expr.atoms(sy.Number)})"
   ]
  },
  {
   "cell_type": "markdown",
   "id": "8b1156e5-c55a-4c49-9c5a-53df684e833c",
   "metadata": {},
   "source": [
    "# <font face=\"黑体\" color=\"purple\"> 行列式的概念</font>"
   ]
  },
  {
   "cell_type": "markdown",
   "id": "25b61c84-29f2-4cfe-ad38-432377e78e70",
   "metadata": {},
   "source": [
    "## <font face=\"黑体\" color=DarkViolet> 二阶与三阶行列式</font>"
   ]
  },
  {
   "cell_type": "markdown",
   "id": "9e5511c6-b548-4a5f-8faf-e729e6d46372",
   "metadata": {},
   "source": [
    "对于 $2\\times 2$ 矩阵 $A$, 计算其行列式\n",
    "$$\n",
    "  A=\\left|\\begin{matrix} a & b\\cr c & d \\end{matrix}\\right| \n",
    "$$\n",
    "$$\n",
    "  \\text{det}  A=ad-bc\n",
    "$$"
   ]
  },
  {
   "cell_type": "markdown",
   "id": "1a6a6cbd-1cdb-41f3-b243-c47bd7ecf032",
   "metadata": {},
   "source": [
    "对于 $3\\times 3$ 矩阵 $B$, 计算其行列式\n",
    "$$\n",
    "  B=\\left|\\begin{matrix} a & b & c \\cr d & e & f \\cr g & h & i \\end{matrix}\\right| \n",
    "$$\n",
    "$$\n",
    "\\text{det}  B=aei-afh-bdi+bfg+cdh-ceg\n",
    "$$"
   ]
  },
  {
   "cell_type": "markdown",
   "id": "0a54589c-5590-4995-9ac3-c95abe21c219",
   "metadata": {},
   "source": [
    "使用Sympy验证"
   ]
  },
  {
   "cell_type": "code",
   "execution_count": 79,
   "id": "c71c73c4-bba3-4ca1-a94f-c172a0ae86b0",
   "metadata": {},
   "outputs": [],
   "source": [
    "a, b, c, d, e, f, g, h, i = sy.symbols('a, b, c, d, e, f, g, h, i', real = True)"
   ]
  },
  {
   "cell_type": "markdown",
   "id": "e8ad33ef-2ac9-47e3-b58f-e01b0df63ac3",
   "metadata": {},
   "source": [
    "定义符号常量，由符号常量生成 $2\\times 2$ 和 $3\\times 3$ 矩阵"
   ]
  },
  {
   "cell_type": "code",
   "execution_count": 80,
   "id": "a0d92006-63c9-4891-8fb6-fc4cd0a508e4",
   "metadata": {},
   "outputs": [
    {
     "data": {
      "image/png": "[encoded data removed]",
      "text/latex": [
       "$\\displaystyle a d - b c$"
      ],
      "text/plain": [
       "a⋅d - b⋅c"
      ]
     },
     "execution_count": 80,
     "metadata": {},
     "output_type": "execute_result"
    }
   ],
   "source": [
    "A = sy.Matrix([[a, b], [c, d]])\n",
    "A.det()"
   ]
  },
  {
   "cell_type": "code",
   "execution_count": 81,
   "id": "414db1dd-1782-469e-a30c-0a917020c430",
   "metadata": {},
   "outputs": [
    {
     "data": {
      "image/png": "[encoded data removed]",
      "text/latex": [
       "$\\displaystyle a e i - a f h - b d i + b f g + c d h - c e g$"
      ],
      "text/plain": [
       "a⋅e⋅i - a⋅f⋅h - b⋅d⋅i + b⋅f⋅g + c⋅d⋅h - c⋅e⋅g"
      ]
     },
     "execution_count": 81,
     "metadata": {},
     "output_type": "execute_result"
    }
   ],
   "source": [
    "B = sy.Matrix([[a, b, c], [d, e, f], [g, h, i]])\n",
    "B.det()"
   ]
  },
  {
   "cell_type": "markdown",
   "id": "d4bf8a8f-29b7-4866-be56-c6f9f0b21caf",
   "metadata": {},
   "source": [
    "## <font face=\"黑体\" color=DarkViolet> 排列、逆序和逆序数</font>"
   ]
  },
  {
   "cell_type": "markdown",
   "id": "82939342-6481-41fa-81e6-155626f9eff3",
   "metadata": {},
   "source": [
    "所谓**排列**是指由 $n$ 个数 $1,2 \\cdots ,n$ 所构成的一个有序数组，通常用 $j_1$，$j_2$ ，…小表示 $n$ 阶排列，显然共有 $n!$ 个n阶排列。\n",
    "\n",
    "一个排列中，如果一个大的数排在小的数之前，就称这两个数构成一个逆序，一个排列的逆序总数称为这个排列的**逆序数**。\n",
    "\n",
    "用 $\\tau (j_1j_2 \\cdots j_n)$ 表示排列 $j_ij_2 \\cdots j_n$ 的逆序数。\n",
    "\n",
    "如果一个排列的逆序数是偶数，则称这个排列为**偶排列**，否则\n",
    "称为**奇排列**。\n",
    "\n",
    "例如，$a_{12} a_{24} a_{33} a_{41}$ 是四阶行列式中的一项，那么该项所带的符号由 $ \\tau (2431)=1+2+1=4$ （即2有1个逆序，4有2个逆序，3有1个逆序）是偶排列，故取正号。\n",
    "\n",
    "又如，$a_{13} a_{25} a_{31} a_{42} a_{54}$ 是五阶行列式中的一项，由 $\\tau (35124)=2+3=5$ 是奇排列，故在行列式中应取负号。\n"
   ]
  },
  {
   "cell_type": "markdown",
   "id": "034540dc-d77d-4b65-a426-3f272aaf7cf7",
   "metadata": {},
   "source": [
    "## <font face=\"黑体\" color=DarkViolet> n阶行列式的定义</font>"
   ]
  },
  {
   "cell_type": "markdown",
   "id": "5dfe41f1-50d1-4c59-a959-a775e27c91f2",
   "metadata": {},
   "source": [
    "$$\n",
    "A=\\left|\\begin{array}{cccc}\n",
    "a_{11} & a_{12} & \\cdots & a_{1 n} \\\\\n",
    "a_{21} & a_{22} & \\cdots & a_{2 n} \\\\\n",
    "\\vdots & \\vdots & &\\vdots & \\\\\n",
    "a_{n 1}& a_{n 2}& \\cdots & a_{n n}\n",
    "\\end{array}\\right|\n",
    "$$\n",
    "\n",
    "$n$ 阶行列式的完全展开的值是取自不同行不同列的 $n$ 个元素 $a_{1j1}a_{2j2} \\cdots a_{njn}$ 的乘积的代数和。\n",
    "这里 $j_1j_2 \\cdots j_n$ 是 $1, 2, \\cdots, n$ 的一个排列，当 $j_1j_2 \\cdots j_n$ 是偶排列时，该项前符号为正，奇排列时符号为负。\n",
    "\n",
    "$$\n",
    "A=\\left|\\begin{array}{cccc}\n",
    "a_{11} & a_{12} & \\cdots & a_{1 n} \\\\\n",
    "a_{21} & a_{22} & \\cdots & a_{2 n} \\\\\n",
    "\\vdots & \\vdots & &\\vdots & \\\\\n",
    "a_{n 1}& a_{n 2}& \\cdots & a_{n n}\n",
    "\\end{array}\\right|\n",
    " =  \\sum_{j=1}^{n} (-1)^{\\tau (j_1j_2 \\cdots j_n)}a_{1j1}a_{2j2} \\cdots a_{njn}\n",
    "$$"
   ]
  },
  {
   "cell_type": "markdown",
   "id": "8310e914-131f-4f53-8667-7eea9bba68a8",
   "metadata": {},
   "source": [
    "# <font face=\"黑体\" color=\"purple\"> 行列式的性质</font>"
   ]
  },
  {
   "cell_type": "markdown",
   "id": "f4ad6274-67de-4580-b93d-bf8b295bd6fe",
   "metadata": {},
   "source": [
    "    \n",
    "1. $A$ 是一个 $n×n$ 矩阵. 如果 $A$ 的某行（列）乘以 $k$ 生成新矩阵 $B$, 那么 $\\text{det} B = k\\, \\text{det} A$.\n",
    "2. $A$ 是一个 $n×n$ 矩阵. 如果 $A$ 的两行（列）交换生成新矩阵 $B$ , 那么 $\\text{det}B=-\\text{det}A$.\n",
    "3. $A$ 是一个 $n×n$ 矩阵. 如果 $A$ 某行（列）加到另一行（列）生成新矩阵 $B$, 那么 $\\text{det}A=\\text{det}B$.\n",
    "4. 如果 $A$ 是一个 $n×n$ 矩阵, 那么 $\\text{det}A^T = \\text{det}A$\n",
    "5. 如果一个 $n×n$ 矩阵 $A$ 可逆， 当且仅当 $\\text{det}A\\neq 0$\n",
    "6. 如果 $A$ 和 $B$ 是 $n×n$ 矩阵, 那么 $\\text{det}AB = (\\text{det}{A})(\\text{det}{B})$\n",
    "7. 如果 $A$ 是一个 $n×n$ 矩阵 并且 $k$ 是一个常数, 那么 $\\text{det}\\,kA=k^n\\,\\text{det}A$.\n",
    "8. 如果 $A$ 是一个可逆矩阵, 那么 $\\text{det}A^{-1}=\\frac{1}{\\det A}$"
   ]
  },
  {
   "cell_type": "markdown",
   "id": "c3cd8731-2a28-47d8-8106-f8dced6967a0",
   "metadata": {},
   "source": [
    "<font face=\"黑体\" color=\"Plum\">性质6证明</font>:\n",
    "$$\\begin{aligned}\n",
    "|A B| &=\\left|E_{p} \\cdots E_{1} B\\right|=\\left|E_{p}\\right|\\left|E_{p-1} \\cdots E_{1} B\\right|=\\cdots \\\\\n",
    "&=\\left|E_{p}\\right| \\cdots\\left|E_{1}\\right||B|=\\cdots=\\left|E_{p} \\cdots E_{1}\\right||B| \\\\\n",
    "&=|A||B|\n",
    "\\end{aligned}$$"
   ]
  },
  {
   "cell_type": "markdown",
   "id": "1163e0f6-4482-417b-bba4-2d36e80af32f",
   "metadata": {},
   "source": [
    "<font face=\"黑体\" color=\"Plum\">性质8证明</font>:\n",
    "$$\\begin{aligned}\n",
    "&\\begin{aligned}\n",
    "A A^{-1} &=I \\\\\n",
    "\\left|A A^{-1}\\right| &=|I|\n",
    "\\end{aligned}\\\\\n",
    "&|A|\\left|A^{-1}\\right|=1\\\\\n",
    "&\\left|A^{-1}\\right|=\\frac{1}{|A|}\n",
    "\\end{aligned}$$"
   ]
  },
  {
   "cell_type": "markdown",
   "id": "f6798878-4e78-487b-b89e-764d5df634d8",
   "metadata": {},
   "source": [
    "# <font face=\"黑体\" color=\"purple\"> 行列式按行（列）展开</font>"
   ]
  },
  {
   "cell_type": "markdown",
   "id": "2d9614ef-9080-4dfb-9e2a-2a9b12665957",
   "metadata": {},
   "source": [
    "## <font face=\"黑体\" color=DarkViolet> 余子式和代数余子式 </font>"
   ]
  },
  {
   "cell_type": "markdown",
   "id": "9e745ce3-a9da-40a9-93c3-3b90cff11f48",
   "metadata": {},
   "source": [
    "$A$ 的 $(i,j)$ 元素的 **代数余子式** 记作 $C_{ij}$ \n",
    "$$C_{i j}=(-1)^{i+j} \\operatorname{det} A_{i j} = (-1)^{i+j} M_{ij}$$\n",
    "\n",
    "$M_{ij}$ 是除去第 $i$ 行和第 $j$ 列的其他元素组成的行列式，称为**余子式**"
   ]
  },
  {
   "cell_type": "markdown",
   "id": "ffc35760-c66f-4004-8758-70c2b921fe03",
   "metadata": {},
   "source": [
    "## <font face=\"黑体\" color=DarkViolet> 展开公式：行列式计算 </font>"
   ]
  },
  {
   "cell_type": "markdown",
   "id": "c75a13e2-1d49-4ef4-999a-5436e21c82c9",
   "metadata": {},
   "source": [
    "有一个 $3$ 阶矩阵$A$\n",
    "$$A=\\left[\\begin{array}{rrr}\n",
    "1 & 5 & 0 \\\\\n",
    "2 & 4 & -1 \\\\\n",
    "0 & -2 & 0\n",
    "\\end{array}\\right]$$\n",
    "任何一个行列式都可以按某行或者某列展开，现在以第一行展开\n",
    "$$\\begin{aligned}\n",
    "\\operatorname{det} A &=1 \\cdot \\operatorname{det}\\left[\\begin{array}{rr}\n",
    "4 & -1 \\\\\n",
    "-2 & 0\n",
    "\\end{array}\\right]-5 \\cdot \\operatorname{det}\\left[\\begin{array}{cc}\n",
    "2 & -1 \\\\\n",
    "0 & 0\n",
    "\\end{array}\\right]+0 \\cdot \\operatorname{det}\\left[\\begin{array}{rr}\n",
    "2 & 4 \\\\\n",
    "0 & -2\n",
    "\\end{array}\\right] \\\\\n",
    "&=1(0-2)-5(0-0)+0(-4-0)=-2\n",
    "\\end{aligned}$$\n",
    "\n",
    "\n",
    "代数余子式前的常数 $1$, $-5$ 和 $0$ 是 $A$ 的第一行的对应元素。"
   ]
  },
  {
   "cell_type": "markdown",
   "id": "32f1fdf8-d106-4687-bc97-2bb529a9d6e8",
   "metadata": {},
   "source": [
    "$\\ast$ **行列式展开Sympy示例**"
   ]
  },
  {
   "cell_type": "code",
   "execution_count": 82,
   "id": "dd16d395-3baa-4a03-9f70-98e4b7e54fd3",
   "metadata": {},
   "outputs": [
    {
     "data": {
      "text/latex": [
       "$\\displaystyle \\left[\\begin{matrix}49 & 0 & 61\\\\73 & 22 & 96\\\\2 & 0 & 32\\end{matrix}\\right]$"
      ],
      "text/plain": [
       "⎡49  0   61⎤\n",
       "⎢          ⎥\n",
       "⎢73  22  96⎥\n",
       "⎢          ⎥\n",
       "⎣2   0   32⎦"
      ]
     },
     "execution_count": 82,
     "metadata": {},
     "output_type": "execute_result"
    }
   ],
   "source": [
    "A = sy.Matrix([[49, 0, 61], [73, 22, 96], [2, 0, 32]]);A"
   ]
  },
  {
   "cell_type": "code",
   "execution_count": 83,
   "id": "2453fa49-ced3-45ff-b103-0a9d26f706ac",
   "metadata": {},
   "outputs": [],
   "source": [
    "def cof_exp(matrix, c): # 按第 c 列展开\n",
    "    detA = 0\n",
    "    for i in range(matrix.shape[1]): # matrix.shape[1] is the total number of columns\n",
    "        detA += matrix[i, c]*(-1)**(i+c)*sy.matrices.matrices.MatrixDeterminant.minor(matrix, i, c)\n",
    "    return detA"
   ]
  },
  {
   "cell_type": "code",
   "execution_count": 84,
   "id": "b0e63fb8-9048-4781-89e8-84b1b8625a03",
   "metadata": {},
   "outputs": [
    {
     "data": {
      "image/png": "[encoded data removed]",
      "text/latex": [
       "$\\displaystyle 31812$"
      ],
      "text/plain": [
       "31812"
      ]
     },
     "execution_count": 84,
     "metadata": {},
     "output_type": "execute_result"
    }
   ],
   "source": [
    "cof_exp(A,1)"
   ]
  },
  {
   "cell_type": "code",
   "execution_count": 85,
   "id": "62d75042-17b8-48af-b7f5-1930b745dc58",
   "metadata": {},
   "outputs": [
    {
     "data": {
      "image/png": "[encoded data removed]",
      "text/latex": [
       "$\\displaystyle 31812$"
      ],
      "text/plain": [
       "31812"
      ]
     },
     "execution_count": 85,
     "metadata": {},
     "output_type": "execute_result"
    }
   ],
   "source": [
    "A.det()"
   ]
  },
  {
   "cell_type": "code",
   "execution_count": 86,
   "id": "3bd55258-a7ed-4437-9c90-8698f408b28b",
   "metadata": {},
   "outputs": [
    {
     "data": {
      "text/latex": [
       "$\\displaystyle \\left[\\begin{matrix}0 & 34 & 46 & 18 & 26 & 31 & 0\\\\19 & 11 & 44 & 17 & 0 & 13 & 11\\\\26 & 0 & 47 & 36 & 31 & 11 & 21\\\\23 & 0 & 0 & 22 & 33 & 0 & 38\\\\16 & 38 & 12 & 48 & 15 & 27 & 40\\\\11 & 0 & 0 & 0 & 22 & 48 & 0\\\\0 & 0 & 0 & 0 & 18 & 48 & 42\\end{matrix}\\right]$"
      ],
      "text/plain": [
       "⎡0   34  46  18  26  31  0 ⎤\n",
       "⎢                          ⎥\n",
       "⎢19  11  44  17  0   13  11⎥\n",
       "⎢                          ⎥\n",
       "⎢26  0   47  36  31  11  21⎥\n",
       "⎢                          ⎥\n",
       "⎢23  0   0   22  33  0   38⎥\n",
       "⎢                          ⎥\n",
       "⎢16  38  12  48  15  27  40⎥\n",
       "⎢                          ⎥\n",
       "⎢11  0   0   0   22  48  0 ⎥\n",
       "⎢                          ⎥\n",
       "⎣0   0   0   0   18  48  42⎦"
      ]
     },
     "execution_count": 86,
     "metadata": {},
     "output_type": "execute_result"
    }
   ],
   "source": [
    "B = sy.randMatrix(r = 7, min=10, max=50, percent=70);B  #随机矩阵，70%非零元素，元素取值10~50，阶数7"
   ]
  },
  {
   "cell_type": "code",
   "execution_count": 87,
   "id": "7265516e-fcb5-4f3a-a600-a08a8956e874",
   "metadata": {},
   "outputs": [
    {
     "data": {
      "image/png": "[encoded data removed]",
      "text/latex": [
       "$\\displaystyle 131220383352$"
      ],
      "text/plain": [
       "131220383352"
      ]
     },
     "execution_count": 87,
     "metadata": {},
     "output_type": "execute_result"
    }
   ],
   "source": [
    "cof_exp(B,1) #用已经定义的函数计算"
   ]
  },
  {
   "cell_type": "code",
   "execution_count": 88,
   "id": "467e1f85-79cb-4b83-b1cd-216a89d8a057",
   "metadata": {},
   "outputs": [
    {
     "data": {
      "image/png": "[encoded data removed]",
      "text/latex": [
       "$\\displaystyle 131220383352$"
      ],
      "text/plain": [
       "131220383352"
      ]
     },
     "execution_count": 88,
     "metadata": {},
     "output_type": "execute_result"
    }
   ],
   "source": [
    "B.det()"
   ]
  },
  {
   "cell_type": "markdown",
   "id": "2d9e60a4-1c8e-4fcd-9530-8dc91cc9dcae",
   "metadata": {},
   "source": [
    "## <font face=\"黑体\" color=DarkViolet> 上三角矩阵的行列式计算 </font>"
   ]
  },
  {
   "cell_type": "markdown",
   "id": "6eba34e4-39c3-42ca-bc60-7ec6027b9796",
   "metadata": {},
   "source": [
    "\n",
    "上三角矩阵展开\n",
    "如果 $A$ 是上三角矩阵, 重复使用行列式按行（列）展开的性质, 其行列式的值为对角线元素的乘积.\n",
    "\n",
    "$$\n",
    "\\operatorname{det A}_{n\\times n} = \\prod_{i=1}^n a_{ii}\n",
    "$$\n",
    "\n",
    "$a_{ii}$ 是对角线元素. \n",
    "\n",
    "证明如下："
   ]
  },
  {
   "cell_type": "markdown",
   "id": "38f593c0-5924-44d2-adcc-3a2576b492e2",
   "metadata": {},
   "source": [
    "$$\n",
    "A=\\left[\\begin{array}{cccc}\n",
    "a_{11} & a_{12} & \\cdots & a_{1 n} \\\\\n",
    "& a_{22} & \\cdots & a_{2 n} \\\\\n",
    "& & \\ddots & \\\\\n",
    "& & & a_{n n}\n",
    "\\end{array}\\right]\n",
    "$$\n",
    "按第一列展开，\n",
    "$$\n",
    "a_{11} \\cdot \\left[\\begin{array}{cccc}\n",
    "a_{22} & a_{22} & \\cdots & a_{2 n} \\\\\n",
    "& a_{33} & \\cdots & a_{3 n} \\\\\n",
    "& & \\ddots & \\\\\n",
    "& & & a_{n n}\n",
    "\\end{array}\\right]\n",
    "$$\n",
    "继续展开，\n",
    "$$\n",
    "\\operatorname{det} A=a_{11} a_{22} \\cdot \\left[\\begin{array}{cccc}\n",
    "a_{33} & a_{34} & \\cdots & a_{3 n} \\\\\n",
    "& a_{44} & \\cdots & a_{4 n} \\\\\n",
    "& & \\ddots & \\\\\n",
    "& & & a_{n n}\n",
    "\\end{array}\\right]\n",
    "$$\n",
    "重复上述过程，最终结果，\n",
    "$$\n",
    "\\text { det } A=a_{11} \\cdots a_{n-2, n-2} \\cdot \\left[\\begin{array}{cc}\n",
    "a_{n-1, n-1} & a_{n-1, n} \\\\\n",
    "a_{n n}\n",
    "\\end{array}\\right]=a_{11} \\cdots a_{n n}\n",
    "$$"
   ]
  },
  {
   "cell_type": "markdown",
   "id": "a46ca7ce-b9c4-42f1-9569-caa6707c7abc",
   "metadata": {},
   "source": [
    "$\\ast$ **上三角矩阵Numpy示例**"
   ]
  },
  {
   "cell_type": "code",
   "execution_count": 89,
   "id": "c5d30f05-e429-44f2-a7cc-5b9a84a50dfd",
   "metadata": {},
   "outputs": [
    {
     "data": {
      "text/plain": [
       "array([[74., 24., 32.,  4., 79.],\n",
       "       [ 0., 88., 32., 63., 64.],\n",
       "       [ 0.,  0., 84., 16., 73.],\n",
       "       [ 0.,  0.,  0., 47., 29.],\n",
       "       [ 0.,  0.,  0.,  0., 91.]])"
      ]
     },
     "execution_count": 89,
     "metadata": {},
     "output_type": "execute_result"
    }
   ],
   "source": [
    "A = np.round(np.random.rand(5,5)*100)\n",
    "A_triu = np.triu(A); A_triu  #返回上三角矩阵"
   ]
  },
  {
   "cell_type": "code",
   "execution_count": 90,
   "id": "fcf33080-7c2e-4e5f-bc52-30030dc45900",
   "metadata": {},
   "outputs": [
    {
     "data": {
      "image/png": "[encoded data removed]",
      "text/latex": [
       "$\\displaystyle 2339553216.0$"
      ],
      "text/plain": [
       "2339553215.999996"
      ]
     },
     "execution_count": 90,
     "metadata": {},
     "output_type": "execute_result"
    }
   ],
   "source": [
    "np.linalg.det(A_triu)  #返回行列式的值"
   ]
  },
  {
   "cell_type": "code",
   "execution_count": 91,
   "id": "10a24b34-9aa0-4d2e-a5f5-e3ed6663664d",
   "metadata": {},
   "outputs": [
    {
     "data": {
      "image/png": "[encoded data removed]",
      "text/latex": [
       "$\\displaystyle 2339553216.0$"
      ],
      "text/plain": [
       "2339553216.0"
      ]
     },
     "execution_count": 91,
     "metadata": {},
     "output_type": "execute_result"
    }
   ],
   "source": [
    "A_diag = np.diag(A_triu)  #返回对角线元素的向量\n",
    "np.prod(A_diag)  #连乘"
   ]
  },
  {
   "cell_type": "markdown",
   "id": "e4737792-eb51-4eda-96b1-e79272789575",
   "metadata": {},
   "source": [
    "# <font face=\"黑体\" color=\"purple\"> 克拉默法则</font>"
   ]
  },
  {
   "cell_type": "markdown",
   "id": "0cf1476e-2273-496b-b21b-a4a4db113ac9",
   "metadata": {},
   "source": [
    "若 $n$ 个方程 $n$ 个未知量构成的非齐次线性方程组\n",
    "\n",
    "$$\n",
    "\\begin{cases}\n",
    "a_{11}x_1+a_{12}x_2+ \\cdots +a_{1n}x_n = b_1\\\\\n",
    "a_{21}x_1+a_{22}x_2+ \\cdots +a_{2n}x_n = b_2 \\\\\n",
    "\\cdots \\\\\n",
    "a_{n1}x_1+a_{n2}x_2+ \\cdots +a_{nn}x_n = b_n \\\\\n",
    "\\end{cases}\n",
    "$$\n",
    "\n",
    "系数行列式 $|A| \\neq 0$ ，则方程组有唯一解\n",
    "方程组可以写为系数矩阵 $A_{n \\times n}$ 和未知数 $x_{n \\times 1}$ 相乘\n",
    "\n",
    "$$\n",
    "A=\\left[\\begin{array}{cccc}\n",
    "a_{11} & a_{12} & \\cdots & a_{1 n} \\\\\n",
    "a_{21} & a_{22} & \\cdots & a_{2 n} \\\\\n",
    "\\vdots & \\vdots & &\\vdots & \\\\\n",
    "a_{n 1}& a_{n 2}& \\cdots & a_{n n}\n",
    "\\end{array}\\right] \\qquad\n",
    "X={\\left[\\begin{array}{cccc}\n",
    "x_1 & x_2 & \\cdots & x_n \n",
    "\\end{array}\\right]}^T\n",
    "$$\n",
    "\n",
    "$$\n",
    "A_{n\\times n}\\mathbf{x}_{n \\times 1} = \\mathbf{b}_{n \\times 1}\n",
    "$$\n",
    "\n",
    "对于任意 $A_{n\\times n}$ 和向量 $\\mathbf{b}_{n \\times 1}$, 把 $A$ 中第 $i$ 列被 $\\mathbf{b}_{n \\times 1}$ 替换记为 $A_i(\\mathbf{b})$ "
   ]
  },
  {
   "cell_type": "markdown",
   "id": "a535e820-7d09-4147-98e8-a27f16142fbb",
   "metadata": {},
   "source": [
    "$$A_{i}(\\mathbf{b})=\\left[\\begin{array}{lllll}\n",
    "\\mathbf{a}_{1} & \\cdots & \\mathbf{b} & \\cdots & \\mathbf{a}_{n}\n",
    "\\end{array}\\right]$$"
   ]
  },
  {
   "cell_type": "markdown",
   "id": "399c5212-f803-4c83-89ef-b3f2dbc082a7",
   "metadata": {},
   "source": [
    "克拉默法则可以求解任意一个未知量 $x_i$ \n",
    "$$x_{i}=\\frac{\\operatorname{det} A_{i}(\\mathbf{b})}{\\operatorname{det} A}, \\quad i=1,2, \\ldots, n$$"
   ]
  },
  {
   "cell_type": "markdown",
   "id": "403cfa71-a9f1-406e-a325-7e5dd9cf560b",
   "metadata": {},
   "source": [
    "$\\ast$ **克拉默法则的Numpy示例**"
   ]
  },
  {
   "cell_type": "markdown",
   "id": "c656dc40-0503-4e3d-b1a7-2a7aabfdb8bd",
   "metadata": {},
   "source": [
    "线性方程组\n",
    "$$\\begin{aligned}\n",
    "&2 x-y+3 z=-3\\\\\n",
    "&3 x+3 y-z=10\\\\\n",
    "&-x-y+z=-4\n",
    "\\end{aligned}$$"
   ]
  },
  {
   "cell_type": "code",
   "execution_count": 92,
   "id": "4763aa9a-cd2f-443b-91d9-9e9eb8e0fe00",
   "metadata": {},
   "outputs": [],
   "source": [
    "A = np.array([[2, -1, 3], [3, 3, -1], [-1, -1, 1]])\n",
    "b = np.array([-3, 10, -4])"
   ]
  },
  {
   "cell_type": "code",
   "execution_count": 93,
   "id": "4b262865-c29f-4750-ade2-0411857c5c98",
   "metadata": {},
   "outputs": [],
   "source": [
    "A_1b = np.copy(A) # Python variable is a reference tag\n",
    "A_1b[:,0]=b\n",
    "\n",
    "A_2b = np.copy(A)\n",
    "A_2b[:,1]=b\n",
    "\n",
    "A_3b = np.copy(A)\n",
    "A_3b[:,2]=b"
   ]
  },
  {
   "cell_type": "code",
   "execution_count": 94,
   "id": "2d807c70-de36-49f4-bb87-4d4230a47a73",
   "metadata": {},
   "outputs": [
    {
     "data": {
      "image/png": "[encoded data removed]",
      "text/latex": [
       "$\\displaystyle \\left( 1.0, \\  2.0, \\  -1.0\\right)$"
      ],
      "text/plain": [
       "(1.0000000000000004, 1.9999999999999982, -1.0000000000000002)"
      ]
     },
     "execution_count": 94,
     "metadata": {},
     "output_type": "execute_result"
    }
   ],
   "source": [
    "x1 = np.linalg.det(A_1b)/np.linalg.det(A)\n",
    "x2 = np.linalg.det(A_2b)/np.linalg.det(A)\n",
    "x3 = np.linalg.det(A_3b)/np.linalg.det(A)\n",
    "(x1, x2, x3)"
   ]
  },
  {
   "cell_type": "code",
   "execution_count": 95,
   "id": "861b587e-382a-44d5-a895-c04f240d112d",
   "metadata": {},
   "outputs": [
    {
     "data": {
      "text/plain": [
       "array([ 1.,  2., -1.])"
      ]
     },
     "execution_count": 95,
     "metadata": {},
     "output_type": "execute_result"
    }
   ],
   "source": [
    "np.linalg.solve(A, b)  #返回系数矩阵为 A，非齐次向量为 b的解"
   ]
  }
 ],
 "metadata": {
  "kernelspec": {
   "display_name": "Python 3 (ipykernel)",
   "language": "python",
   "name": "python3"
  },
  "language_info": {
   "codemirror_mode": {
    "name": "ipython",
    "version": 3
   },
   "file_extension": ".py",
   "mimetype": "text/x-python",
   "name": "python",
   "nbconvert_exporter": "python",
   "pygments_lexer": "ipython3",
   "version": "3.9.9"
  },
  "toc-autonumbering": true,
  "toc-showmarkdowntxt": false,
  "toc-showtags": false
 },
 "nbformat": 4,
 "nbformat_minor": 5
}
