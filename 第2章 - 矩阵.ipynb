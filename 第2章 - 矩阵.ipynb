{
 "cells": [
  {
   "cell_type": "code",
   "execution_count": 1,
   "id": "34856c1a-4cd0-45da-8664-8245436f112e",
   "metadata": {},
   "outputs": [],
   "source": [
    "import matplotlib.pyplot as plt\n",
    "import numpy as np\n",
    "from mpl_toolkits.mplot3d import Axes3D\n",
    "import scipy as sp\n",
    "import sympy as sy\n",
    "sy.init_printing() "
   ]
  },
  {
   "cell_type": "code",
   "execution_count": 2,
   "id": "0b8171c6-3b1b-427b-94a6-7c695a3a59ce",
   "metadata": {},
   "outputs": [],
   "source": [
    "np.set_printoptions(precision=3)\n",
    "np.set_printoptions(suppress=True)"
   ]
  },
  {
   "cell_type": "code",
   "execution_count": 3,
   "id": "56ce3a89-cd79-49f3-b1a5-a12bae3be525",
   "metadata": {},
   "outputs": [],
   "source": [
    "from IPython.core.interactiveshell import InteractiveShell\n",
    "InteractiveShell.ast_node_interactivity = \"all\" # display multiple results"
   ]
  },
  {
   "cell_type": "code",
   "execution_count": 4,
   "id": "187508a9-d825-4226-8700-2f76e15e8251",
   "metadata": {},
   "outputs": [],
   "source": [
    "def round_expr(expr, num_digits):\n",
    "    return expr.xreplace({n : round(n, num_digits) for n in expr.atoms(sy.Number)})"
   ]
  },
  {
   "cell_type": "markdown",
   "id": "25b656a2-e564-4570-9fe5-f17ea2114d81",
   "metadata": {},
   "source": [
    "# <font face=\"黑体\" color=\"purple\"> 矩阵的概念和运算</font>"
   ]
  },
  {
   "cell_type": "markdown",
   "id": "0debee1e-9212-4ec1-83e0-babac7d10161",
   "metadata": {},
   "source": [
    "## <font face=\"黑体\" color=\"DarkViolet\"> 矩阵的概念</font>"
   ]
  },
  {
   "cell_type": "markdown",
   "id": "8ce9e992-811f-426d-8803-c717944b0657",
   "metadata": {},
   "source": [
    " $m\\times n$ 个数如下排列成 $m$ 行 $n$ 列的一个表格，称为一个 $m\\times n$ **矩阵**，\n",
    " 当 $m = n$ 时，为**n 阶矩阵**或者**n 阶方阵**。\n",
    " \n",
    "$$\n",
    "\\left[\\begin{array}{cccc}\n",
    "a_{11} & a_{12} & \\cdots & a_{1 n} \\\\\n",
    "a_{21} & a_{22} & \\cdots & a_{2 n} \\\\\n",
    "\\vdots & \\vdots & &\\vdots & \\\\\n",
    "a_{n 1}& a_{n 2}& \\cdots & a_{n n}\n",
    "\\end{array}\\right]\n",
    "$$"
   ]
  },
  {
   "cell_type": "markdown",
   "id": "627c717f-f392-49f8-a822-03c9e368ec03",
   "metadata": {},
   "source": [
    "1. 一个矩阵中所有元素都为 **0**，称这个矩阵为**零矩阵**。\n",
    "\n",
    "2. 两个矩阵 $A = {[a_{ij}]}_{m\\times n}$ ，$B = {[b_{ij}]}_{s\\times t}$ ，如果 $m =s, n = t$ ，则称 $A$ 与 $B$ 是**同型矩阵**。\n",
    "\n",
    "3. 两个同型矩阵 $A = {[a_{ij}]}_{m\\times n}$ ，$B = {[b_{ij}]}_{m\\times n}$ ，如果对应元素都相等，即 $a_{ij} = b_{ij} (i = 1, 2, \\cdots , m; j = 1, 2, \\cdots , n )$ ，$$\\qquad $$则称矩阵 $A$ 与 $B$ **相等**，记作**A = B**。"
   ]
  },
  {
   "cell_type": "markdown",
   "id": "24ad37d9-88ac-4ff4-a7aa-8a7ec0833457",
   "metadata": {},
   "source": [
    "## <font face=\"黑体\" color=\"DarkViolet\"> 矩阵的运算</font>"
   ]
  },
  {
   "cell_type": "markdown",
   "id": "10ef7048-0f85-45b9-a9ba-b7bfc72f32b9",
   "metadata": {},
   "source": [
    "矩阵加法运算法则如下:\n",
    "1. $A+ B= B+ A$\n",
    "2. $(A+B)+ C=A+(B+C)$\n",
    "3. $c(A+B)=cA+cB$\n",
    "4. $(c+d)A=cA+c{D}$\n",
    "5. $c(dA)=(cd)A$\n",
    "6. $A+{0}=A$,  ${0}$ 是零矩阵\n",
    "7. 对于任意矩阵 $A$, 总存在矩阵 $- A$, 使得 $ A+(- A)=0$ 成立\n",
    "\n",
    "矩阵乘法法则如下:\n",
    "1. $ A({BC})=({AB}) C$\n",
    "2. $c({AB})=(cA)B=A(cB)$\n",
    "3. $A(B+ C)={AB}+{AC}$\n",
    "4. $(B+C)A={BA}+{CA}$\n",
    "5. $AB \\neq BA$ ,矩阵乘法不满足交换性"
   ]
  },
  {
   "cell_type": "markdown",
   "id": "096f694e-1b2d-4c69-8afe-5c7f7c0dbb5b",
   "metadata": {},
   "source": [
    "<font face=\"黑体\" color=\"DarkOrange\" size=3> 矩阵有两种乘法：矩阵点乘和矩阵乘法</font>\n",
    "    \n",
    "**点乘**要求两个矩阵为**同型矩阵**，对应元素相乘生成新矩阵\n",
    "    \n",
    "**矩阵乘法**要求满足形式为**前项矩阵的列数等于后项矩阵的行数**，具体运算见示例\n"
   ]
  },
  {
   "cell_type": "code",
   "execution_count": 5,
   "id": "65d56ec1-3a78-4232-ad82-7fd084accbb0",
   "metadata": {},
   "outputs": [],
   "source": [
    "A = np.array([[1, 2], [3, 4]])\n",
    "B = np.array([[5, 6], [7, 8]])"
   ]
  },
  {
   "cell_type": "code",
   "execution_count": 6,
   "id": "bb9fe1f9-b47e-4e37-bb2f-48cf3a3b71f4",
   "metadata": {},
   "outputs": [
    {
     "data": {
      "text/plain": [
       "array([[ 5, 12],\n",
       "       [21, 32]])"
      ]
     },
     "execution_count": 6,
     "metadata": {},
     "output_type": "execute_result"
    }
   ],
   "source": [
    "A*B # 在numpy定义的向量中\" * \"表示 点乘 ，而在sympy定义的matrix中\" * \"表示 矩阵乘法"
   ]
  },
  {
   "cell_type": "code",
   "execution_count": 7,
   "id": "2ccdf221-69d5-4783-880f-b59b50fd2b17",
   "metadata": {},
   "outputs": [
    {
     "data": {
      "text/plain": [
       "array([[19, 22],\n",
       "       [43, 50]])"
      ]
     },
     "execution_count": 7,
     "metadata": {},
     "output_type": "execute_result"
    }
   ],
   "source": [
    "A@B # numpy中表示 矩阵乘法"
   ]
  },
  {
   "cell_type": "code",
   "execution_count": 8,
   "id": "e4252e9b-ce4b-4c76-8758-df07702bb9e8",
   "metadata": {},
   "outputs": [
    {
     "data": {
      "text/plain": [
       "19"
      ]
     },
     "execution_count": 8,
     "metadata": {},
     "output_type": "execute_result"
    },
    {
     "data": {
      "text/plain": [
       "43"
      ]
     },
     "execution_count": 8,
     "metadata": {},
     "output_type": "execute_result"
    },
    {
     "data": {
      "text/plain": [
       "22"
      ]
     },
     "execution_count": 8,
     "metadata": {},
     "output_type": "execute_result"
    },
    {
     "data": {
      "text/plain": [
       "50"
      ]
     },
     "execution_count": 8,
     "metadata": {},
     "output_type": "execute_result"
    }
   ],
   "source": [
    "# 矩阵乘法具体运算步骤\n",
    "np.sum(A[0,:]*B[:,0]) # 新矩阵的(1, 1)\n",
    "np.sum(A[1,:]*B[:,0]) # (2, 1)\n",
    "np.sum(A[0,:]*B[:,1]) # (1, 2)\n",
    "np.sum(A[1,:]*B[:,1]) # (2, 2)"
   ]
  },
  {
   "cell_type": "markdown",
   "id": "4d8d0efb-8a9f-4cef-99c1-b078cb1c5fd7",
   "metadata": {},
   "source": [
    "$\\ast$ **矩阵加法Sympy示例**"
   ]
  },
  {
   "cell_type": "code",
   "execution_count": 9,
   "id": "e7a1c43d-f4fc-463c-968b-0cacb3807cd8",
   "metadata": {},
   "outputs": [],
   "source": [
    "a, b, c, d, e, f, g, h, i, j, k, l, m, n, o, p, q, r, s, t, u, v, w, x, y, z = sy.symbols('a, b, c, d, e, f, g, h, i, j, k, l, m, n, o, p, q, r, s, t, u, v, w, x, y, z', real = True)"
   ]
  },
  {
   "cell_type": "code",
   "execution_count": 10,
   "id": "202814c2-c4c1-44c2-963d-7becc6562fc4",
   "metadata": {},
   "outputs": [
    {
     "data": {
      "text/latex": [
       "$\\displaystyle \\left[\\begin{matrix}2 a & 2 b & 2 c\\\\2 d & 2 e & 2 f\\end{matrix}\\right]$"
      ],
      "text/plain": [
       "⎡2⋅a  2⋅b  2⋅c⎤\n",
       "⎢             ⎥\n",
       "⎣2⋅d  2⋅e  2⋅f⎦"
      ]
     },
     "execution_count": 10,
     "metadata": {},
     "output_type": "execute_result"
    },
    {
     "data": {
      "text/latex": [
       "$\\displaystyle \\left[\\begin{matrix}0 & 0 & 0\\\\0 & 0 & 0\\end{matrix}\\right]$"
      ],
      "text/plain": [
       "⎡0  0  0⎤\n",
       "⎢       ⎥\n",
       "⎣0  0  0⎦"
      ]
     },
     "execution_count": 10,
     "metadata": {},
     "output_type": "execute_result"
    }
   ],
   "source": [
    "A = sy.Matrix([[a, b, c], [d, e, f]])\n",
    "A + A\n",
    "A - A"
   ]
  },
  {
   "cell_type": "code",
   "execution_count": 11,
   "id": "1d6a7d76-152d-4e84-b41d-e05748badaaa",
   "metadata": {},
   "outputs": [
    {
     "data": {
      "text/latex": [
       "$\\displaystyle \\left[\\begin{matrix}a + g & b + h & c + i\\\\d + j & e + k & f + l\\end{matrix}\\right]$"
      ],
      "text/plain": [
       "⎡a + g  b + h  c + i⎤\n",
       "⎢                   ⎥\n",
       "⎣d + j  e + k  f + l⎦"
      ]
     },
     "execution_count": 11,
     "metadata": {},
     "output_type": "execute_result"
    },
    {
     "data": {
      "text/latex": [
       "$\\displaystyle \\left[\\begin{matrix}a - g & b - h & c - i\\\\d - j & e - k & f - l\\end{matrix}\\right]$"
      ],
      "text/plain": [
       "⎡a - g  b - h  c - i⎤\n",
       "⎢                   ⎥\n",
       "⎣d - j  e - k  f - l⎦"
      ]
     },
     "execution_count": 11,
     "metadata": {},
     "output_type": "execute_result"
    }
   ],
   "source": [
    "B = sy.Matrix([[g, h, i], [j, k, l]])\n",
    "A + B\n",
    "A - B"
   ]
  },
  {
   "cell_type": "markdown",
   "id": "c4dff856-ac8e-4026-a59b-32d5f8014daa",
   "metadata": {},
   "source": [
    "$\\ast$ **矩阵乘法Sympy示例**"
   ]
  },
  {
   "cell_type": "code",
   "execution_count": 12,
   "id": "aa0adc6c-9aa5-4f30-af78-021c550dada2",
   "metadata": {},
   "outputs": [
    {
     "data": {
      "text/latex": [
       "$\\displaystyle \\left[\\begin{matrix}a & b & c\\\\d & e & f\\end{matrix}\\right]$"
      ],
      "text/plain": [
       "⎡a  b  c⎤\n",
       "⎢       ⎥\n",
       "⎣d  e  f⎦"
      ]
     },
     "execution_count": 12,
     "metadata": {},
     "output_type": "execute_result"
    },
    {
     "data": {
      "text/latex": [
       "$\\displaystyle \\left[\\begin{matrix}g & h & i\\\\j & k & l\\\\m & n & o\\end{matrix}\\right]$"
      ],
      "text/plain": [
       "⎡g  h  i⎤\n",
       "⎢       ⎥\n",
       "⎢j  k  l⎥\n",
       "⎢       ⎥\n",
       "⎣m  n  o⎦"
      ]
     },
     "execution_count": 12,
     "metadata": {},
     "output_type": "execute_result"
    }
   ],
   "source": [
    "A = sy.Matrix([[a, b, c], [d, e, f]])\n",
    "B = sy.Matrix([[g, h, i], [j, k, l], [m, n, o]])\n",
    "A\n",
    "B"
   ]
  },
  {
   "cell_type": "code",
   "execution_count": 13,
   "id": "bacb9136-e23c-4c1e-a25f-7b89312e8427",
   "metadata": {},
   "outputs": [
    {
     "data": {
      "text/latex": [
       "$\\displaystyle \\left[\\begin{matrix}a g + b j + c m & a h + b k + c n & a i + b l + c o\\\\d g + e j + f m & d h + e k + f n & d i + e l + f o\\end{matrix}\\right]$"
      ],
      "text/plain": [
       "⎡a⋅g + b⋅j + c⋅m  a⋅h + b⋅k + c⋅n  a⋅i + b⋅l + c⋅o⎤\n",
       "⎢                                                 ⎥\n",
       "⎣d⋅g + e⋅j + f⋅m  d⋅h + e⋅k + f⋅n  d⋅i + e⋅l + f⋅o⎦"
      ]
     },
     "execution_count": 13,
     "metadata": {},
     "output_type": "execute_result"
    }
   ],
   "source": [
    "AB = A*B; AB"
   ]
  },
  {
   "cell_type": "markdown",
   "id": "db592023-23d8-4949-8202-6af7331d8eab",
   "metadata": {},
   "source": [
    "$\\ast$ **矩阵乘法的不可交换性的Sympy证明**"
   ]
  },
  {
   "cell_type": "code",
   "execution_count": 14,
   "id": "6554ed07-ee80-41b2-bf31-4faf955c9e3f",
   "metadata": {},
   "outputs": [
    {
     "data": {
      "text/latex": [
       "$\\displaystyle \\left[\\begin{matrix}a e + b g & a f + b h\\\\c e + d g & c f + d h\\end{matrix}\\right]$"
      ],
      "text/plain": [
       "⎡a⋅e + b⋅g  a⋅f + b⋅h⎤\n",
       "⎢                    ⎥\n",
       "⎣c⋅e + d⋅g  c⋅f + d⋅h⎦"
      ]
     },
     "execution_count": 14,
     "metadata": {},
     "output_type": "execute_result"
    },
    {
     "data": {
      "text/latex": [
       "$\\displaystyle \\left[\\begin{matrix}a e + c f & b e + d f\\\\a g + c h & b g + d h\\end{matrix}\\right]$"
      ],
      "text/plain": [
       "⎡a⋅e + c⋅f  b⋅e + d⋅f⎤\n",
       "⎢                    ⎥\n",
       "⎣a⋅g + c⋅h  b⋅g + d⋅h⎦"
      ]
     },
     "execution_count": 14,
     "metadata": {},
     "output_type": "execute_result"
    }
   ],
   "source": [
    "A = sy.Matrix([[a, b], [c, d]])\n",
    "B = sy.Matrix([[e, f], [g, h]])\n",
    "A*B\n",
    "B*A"
   ]
  },
  {
   "cell_type": "markdown",
   "id": "e3c07932-bad7-4015-af77-ee481d788a9a",
   "metadata": {},
   "source": [
    "若 $AB = BA$ , 那么 $AB - BA = 0$"
   ]
  },
  {
   "cell_type": "code",
   "execution_count": 15,
   "id": "5226f390-69b7-468e-a1cd-58bc77aa7861",
   "metadata": {},
   "outputs": [
    {
     "data": {
      "text/latex": [
       "$\\displaystyle \\left[\\begin{matrix}b g - c f & a f - b e + b h - d f\\\\- a g + c e - c h + d g & - b g + c f\\end{matrix}\\right]$"
      ],
      "text/plain": [
       "⎡      b⋅g - c⋅f         a⋅f - b⋅e + b⋅h - d⋅f⎤\n",
       "⎢                                             ⎥\n",
       "⎣-a⋅g + c⋅e - c⋅h + d⋅g       -b⋅g + c⋅f      ⎦"
      ]
     },
     "execution_count": 15,
     "metadata": {},
     "output_type": "execute_result"
    }
   ],
   "source": [
    "M = A*B - B*A; M"
   ]
  },
  {
   "cell_type": "markdown",
   "id": "a66269ae-771f-49a9-8790-91527205413d",
   "metadata": {},
   "source": [
    "通常情况下，$M$ 不为零矩阵"
   ]
  },
  {
   "cell_type": "markdown",
   "id": "90c22e80-f46d-4c87-8ae0-92f4a4bcaa2c",
   "metadata": {},
   "source": [
    "若 $M$ 是零矩阵，则，\n",
    "\\begin{align}\n",
    "b g - c f&=0 \\\\\n",
    " a f - b e + b h - d f&=0\\\\\n",
    "- a g + c e - c h + d g&=0 \\\\\n",
    "- b g + c f&=0\n",
    "\\end{align}\n",
    "\n",
    "$a b c d$ 视为系数，解方程组"
   ]
  },
  {
   "cell_type": "code",
   "execution_count": 16,
   "id": "92f0384e-1141-44d4-915e-136977b75ddc",
   "metadata": {},
   "outputs": [
    {
     "data": {
      "text/latex": [
       "$\\displaystyle \\left[\\begin{matrix}0 & - c & b & 0\\\\- b & a - d & 0 & b\\\\c & 0 & - a + d & - c\\\\0 & c & - b & 0\\end{matrix}\\right]$"
      ],
      "text/plain": [
       "⎡0    -c      b     0 ⎤\n",
       "⎢                     ⎥\n",
       "⎢-b  a - d    0     b ⎥\n",
       "⎢                     ⎥\n",
       "⎢c     0    -a + d  -c⎥\n",
       "⎢                     ⎥\n",
       "⎣0     c      -b    0 ⎦"
      ]
     },
     "execution_count": 16,
     "metadata": {},
     "output_type": "execute_result"
    }
   ],
   "source": [
    "A_aug = sy.Matrix([[0, -c, b, 0], [-b, a-d, 0, b], [c, 0, d -a, -c], [0, c, -b, 0]]); A_aug"
   ]
  },
  {
   "cell_type": "code",
   "execution_count": 17,
   "id": "36e1eefe-2c76-451d-8924-2cd6f5b68ee9",
   "metadata": {},
   "outputs": [
    {
     "data": {
      "text/latex": [
       "$\\displaystyle \\left( \\left[\\begin{matrix}1 & 0 & - \\frac{a}{c} + \\frac{d}{c} & -1\\\\0 & 1 & - \\frac{b}{c} & 0\\\\0 & 0 & 0 & 0\\\\0 & 0 & 0 & 0\\end{matrix}\\right], \\  \\left( 0, \\  1\\right)\\right)$"
      ],
      "text/plain": [
       "⎛⎡        a   d    ⎤        ⎞\n",
       "⎜⎢1  0  - ─ + ─  -1⎥        ⎟\n",
       "⎜⎢        c   c    ⎥        ⎟\n",
       "⎜⎢                 ⎥        ⎟\n",
       "⎜⎢        -b       ⎥        ⎟\n",
       "⎜⎢0  1    ───    0 ⎥, (0, 1)⎟\n",
       "⎜⎢         c       ⎥        ⎟\n",
       "⎜⎢                 ⎥        ⎟\n",
       "⎜⎢0  0     0     0 ⎥        ⎟\n",
       "⎜⎢                 ⎥        ⎟\n",
       "⎝⎣0  0     0     0 ⎦        ⎠"
      ]
     },
     "execution_count": 17,
     "metadata": {},
     "output_type": "execute_result"
    }
   ],
   "source": [
    "A_aug.rref() # 用 Gaussian-Jordon 消元化为行阶梯矩阵"
   ]
  },
  {
   "cell_type": "markdown",
   "id": "36159e6d-3298-413f-bc21-d207ce8071df",
   "metadata": {},
   "source": [
    "方程组化为\n",
    "\\begin{align}\n",
    "e - \\frac{a-d}cg - h &=0\\\\\n",
    "f - \\frac{b}{c} & =0\\\\\n",
    "g &= free\\\\\n",
    "h & =free\n",
    "\\end{align}"
   ]
  },
  {
   "cell_type": "markdown",
   "id": "e6e701f8-da13-4987-baa2-e36310d896aa",
   "metadata": {},
   "source": [
    "假设 $a = 10, b = 12, c = 20, d = 8$, or $ A = \\left[\\begin{matrix}10 & 12\\\\20 & 8\\end{matrix}\\right]$ 则方程组化为\n",
    "\n",
    "\n",
    "\\begin{align}\n",
    "e - .1g - h &=0\\\\\n",
    "f - .6 & =0\\\\\n",
    "g &= free\\\\\n",
    "h & =free\n",
    "\\end{align}\n",
    "设 $g = h = 1$\n",
    "\\begin{align}\n",
    "e  &=1.1\\\\\n",
    "f & =.6\\\\\n",
    "g &=1 \\\\\n",
    "h & =1\n",
    "\\end{align}\n",
    "即可得到与$A$ 相乘满足可交换性的矩阵 $ C$."
   ]
  },
  {
   "cell_type": "code",
   "execution_count": 18,
   "id": "957d7b7e-74b3-4a36-8594-39fe2d1438a6",
   "metadata": {},
   "outputs": [
    {
     "data": {
      "text/latex": [
       "$\\displaystyle \\left[\\begin{matrix}1.1 & 0.6\\\\1 & 1\\end{matrix}\\right]$"
      ],
      "text/plain": [
       "⎡1.1  0.6⎤\n",
       "⎢        ⎥\n",
       "⎣ 1    1 ⎦"
      ]
     },
     "execution_count": 18,
     "metadata": {},
     "output_type": "execute_result"
    }
   ],
   "source": [
    "C = sy.Matrix([[1.1, .6], [1, 1]]);C"
   ]
  },
  {
   "cell_type": "code",
   "execution_count": 19,
   "id": "d811ad8c-736c-4386-9e4c-5b13ef8736d3",
   "metadata": {},
   "outputs": [
    {
     "data": {
      "text/latex": [
       "$\\displaystyle \\left[\\begin{matrix}23.0 & 18.0\\\\30.0 & 20.0\\end{matrix}\\right]$"
      ],
      "text/plain": [
       "⎡23.0  18.0⎤\n",
       "⎢          ⎥\n",
       "⎣30.0  20.0⎦"
      ]
     },
     "execution_count": 19,
     "metadata": {},
     "output_type": "execute_result"
    },
    {
     "data": {
      "text/latex": [
       "$\\displaystyle \\left[\\begin{matrix}23.0 & 18.0\\\\30 & 20\\end{matrix}\\right]$"
      ],
      "text/plain": [
       "⎡23.0  18.0⎤\n",
       "⎢          ⎥\n",
       "⎣ 30    20 ⎦"
      ]
     },
     "execution_count": 19,
     "metadata": {},
     "output_type": "execute_result"
    }
   ],
   "source": [
    "A = sy.Matrix([[10, 12], [20, 8]])\n",
    "A*C\n",
    "C*A"
   ]
  },
  {
   "cell_type": "markdown",
   "id": "ecfd3c00-3864-4abb-a1f6-f042eb4d9c4b",
   "metadata": {},
   "source": [
    "将 $m\\times n$ 型矩阵 $A = {[a_{ij}]}_{m\\times N}$ 的行列互换得到的 $n\\times m$ 矩阵 ${[a_{ji}]}_{n\\times m}$ 称为 $A$ 的**转置矩阵**，记为 $A^T$\n",
    "$$\n",
    "A = \\left[\\begin{array}{cccc}\n",
    "a_{11} & a_{12} & \\cdots & a_{1 n} \\\\\n",
    "a_{21} & a_{22} & \\cdots & a_{2 n} \\\\\n",
    "\\vdots & \\vdots & &\\vdots & \\\\\n",
    "a_{n 1}& a_{n 2}& \\cdots & a_{n n}\n",
    "\\end{array}\\right]\n",
    "\\qquad A^T = \\left[\\begin{array}{cccc}\n",
    "a_{11} & a_{21} & \\cdots & a_{n 1} \\\\\n",
    "a_{12} & a_{22} & \\cdots & a_{n 2} \\\\\n",
    "\\vdots & \\vdots & &\\vdots & \\\\\n",
    "a_{1 n}& a_{2 n}& \\cdots & a_{n n}\n",
    "\\end{array}\\right]\n",
    "$$\n",
    "\n",
    "转置的运算法则\n",
    "1. $(A^T)^T=A$\n",
    "2. $(A+B)^T=A^T+B^T$\n",
    "3. $(cA)^T=cA^T$\n",
    "4. $(AB)^T=B^TA^T$\n"
   ]
  },
  {
   "cell_type": "code",
   "execution_count": 20,
   "id": "87abe5b7-641f-468c-9f7b-0a36bb262a15",
   "metadata": {},
   "outputs": [
    {
     "data": {
      "text/latex": [
       "$\\displaystyle \\left[\\begin{matrix}a g + b j & c g + d j & e g + f j\\\\a h + b k & c h + d k & e h + f k\\\\a i + b l & c i + d l & e i + f l\\end{matrix}\\right]$"
      ],
      "text/plain": [
       "⎡a⋅g + b⋅j  c⋅g + d⋅j  e⋅g + f⋅j⎤\n",
       "⎢                               ⎥\n",
       "⎢a⋅h + b⋅k  c⋅h + d⋅k  e⋅h + f⋅k⎥\n",
       "⎢                               ⎥\n",
       "⎣a⋅i + b⋅l  c⋅i + d⋅l  e⋅i + f⋅l⎦"
      ]
     },
     "execution_count": 20,
     "metadata": {},
     "output_type": "execute_result"
    }
   ],
   "source": [
    "# Sympy证明转置性质4\n",
    "A = sy.Matrix([[a, b], [c, d], [e, f]])\n",
    "B = sy.Matrix([[g, h, i], [j, k, l]])\n",
    "AB = A*B\n",
    "AB_tr = AB.transpose(); AB_tr"
   ]
  },
  {
   "cell_type": "code",
   "execution_count": 21,
   "id": "efbbe00a-e8a0-406d-af75-c4b537459369",
   "metadata": {},
   "outputs": [
    {
     "data": {
      "text/latex": [
       "$\\displaystyle \\left[\\begin{matrix}a g + b j & c g + d j & e g + f j\\\\a h + b k & c h + d k & e h + f k\\\\a i + b l & c i + d l & e i + f l\\end{matrix}\\right]$"
      ],
      "text/plain": [
       "⎡a⋅g + b⋅j  c⋅g + d⋅j  e⋅g + f⋅j⎤\n",
       "⎢                               ⎥\n",
       "⎢a⋅h + b⋅k  c⋅h + d⋅k  e⋅h + f⋅k⎥\n",
       "⎢                               ⎥\n",
       "⎣a⋅i + b⋅l  c⋅i + d⋅l  e⋅i + f⋅l⎦"
      ]
     },
     "execution_count": 21,
     "metadata": {},
     "output_type": "execute_result"
    }
   ],
   "source": [
    "B_tr_A_tr = B.transpose()*A.transpose()\n",
    "B_tr_A_tr"
   ]
  },
  {
   "cell_type": "code",
   "execution_count": 22,
   "id": "572ccc98-d255-4ab8-8d4f-24a35e48dc95",
   "metadata": {},
   "outputs": [
    {
     "data": {
      "text/latex": [
       "$\\displaystyle \\left[\\begin{matrix}0 & 0 & 0\\\\0 & 0 & 0\\\\0 & 0 & 0\\end{matrix}\\right]$"
      ],
      "text/plain": [
       "⎡0  0  0⎤\n",
       "⎢       ⎥\n",
       "⎢0  0  0⎥\n",
       "⎢       ⎥\n",
       "⎣0  0  0⎦"
      ]
     },
     "execution_count": 22,
     "metadata": {},
     "output_type": "execute_result"
    }
   ],
   "source": [
    "AB_tr - B_tr_A_tr"
   ]
  },
  {
   "cell_type": "markdown",
   "id": "97add1ab-7217-41cf-868a-af0a19e878bd",
   "metadata": {},
   "source": [
    "# <font face=\"黑体\" color=\"purple\"> 伴随矩阵和可逆矩阵</font>"
   ]
  },
  {
   "cell_type": "markdown",
   "id": "23ff27a6-151b-4a84-b03e-f7c8a4d8456b",
   "metadata": {},
   "source": [
    "## <font face=\"黑体\" color=\"DarkViolet\"> 伴随矩阵</font>"
   ]
  },
  {
   "cell_type": "markdown",
   "id": "403fc296-56dd-4ffc-9fc3-7ee996bd874c",
   "metadata": {},
   "source": [
    "在行列式按行（列）展开中，我们学习了**代数余子式**，\n",
    "\n",
    "$A$ 的 $(i,j)$ 元素的代数余子式记作 $C_{ij}$ \n",
    "$$C_{i j}=(-1)^{i+j} \\operatorname{det} A_{i j} = (-1)^{i+j} M_{ij}$$\n",
    "\n",
    "$M_{ij}$ 是除去第 $i$ 行和第 $j$ 列的其他元素组成的行列式，称为**余子式**\n",
    "\n",
    "**伴随矩阵**：由矩阵 $A$ 的行列式 $|A|$ 所有的代数余子式构成的形如\n",
    "\n",
    "$$\n",
    "\\left[\\begin{array}{cccc}\n",
    "C_{11} & C_{12} & \\cdots & C_{1 n} \\\\\n",
    "C_{21} & C_{22} & \\cdots & C_{2 n} \\\\\n",
    "\\vdots & \\vdots & &\\vdots & \\\\\n",
    "C_{n 1}& C_{n 2}& \\cdots & C_{n n}\n",
    "\\end{array}\\right]\n",
    "$$\n",
    "的矩阵称为矩阵 $A$ 的**伴随矩阵**，记为 $A^{*}$ （$|A|$每个元素对应代数余子式按元素位置构成的矩阵再取转置）"
   ]
  },
  {
   "cell_type": "markdown",
   "id": "28302953-fd0a-4beb-baa6-a07142933bc1",
   "metadata": {},
   "source": [
    "**伴随矩阵的公式**：\n",
    "1. $AA^{*} = A^{*}A = |A|E \\qquad E\\text{是单位矩阵}$\n",
    "2. ${(A^*)}^{-1} = {(A^{-1})}^{*} = \\frac {1}{|A|} A \\qquad |A| \\neq 0$\n",
    "3. ${(kA)}^{*} = k^{n-1}A^*$\n",
    "4. ${A^*}^{T} = {A^T}^{*}$\n",
    "5. $|A^*| = {|A|}^{n-1}$\n",
    "6. ${(A^*)}^* = {|A|}^{n-2} (n\\geq 2)$"
   ]
  },
  {
   "cell_type": "markdown",
   "id": "217f7c7a-b61c-4dc3-afe4-c43e8aa0bb73",
   "metadata": {},
   "source": [
    "## <font face=\"黑体\" color=\"DarkViolet\"> 可逆矩阵</font>"
   ]
  },
  {
   "cell_type": "markdown",
   "id": "b8fe7040-69be-4ea4-8665-f9698afa2d27",
   "metadata": {},
   "source": [
    "设 $A$是 $n$ 阶矩阵，如果存在 $n$ 阶矩阵 $B$ 使得\n",
    "$$ AB = BA = E $$\n",
    "成立，则称 $A$ 是**可逆矩阵**， $B$ 是 $A$ 的逆矩阵，记成$A^{-1} = B$\n",
    "\n",
    "**定理**：\n",
    "1. 若 $A$ 可逆，则$A$的逆矩阵唯一；\n",
    "2. $A$ 可逆 $\\Leftrightarrow |A|\\neq 0$\n",
    "3. $A$ 和 $B$ 是$n$ 阶矩阵且$ AB = E$ ，则$ BA =E $\n"
   ]
  },
  {
   "cell_type": "markdown",
   "id": "aaf24b23-e386-49d3-afc2-51ed13e7a54d",
   "metadata": {},
   "source": [
    "**可逆矩阵运算性质**：\n",
    "\n",
    "1. 如果 $A$ 和 $B$ 都可逆, 那么 $(AB)^{-1}=B^{-1}A^{-1}$.\n",
    "2. 如果 $A$ 肯, 那么 $(A^T)^{-1}=(A^{-1})^T$.\n",
    "3. 如果 $A$ 和 $B$ 可逆且对称，当 $AB=BA$,  $A^{-1}B$ 是对称的 ."
   ]
  },
  {
   "cell_type": "markdown",
   "id": "bb715f70-f71a-44a1-9e42-7ec50749bb7a",
   "metadata": {},
   "source": [
    "**性质1 证明**\n",
    "\\begin{align}\n",
    "ABB^{-1}A^{-1}=AIA^{-1}=I=AB(AB)^{-1}\n",
    "\\end{align}"
   ]
  },
  {
   "cell_type": "markdown",
   "id": "d64dcb1c-2b65-480a-8be6-3697780cad85",
   "metadata": {},
   "source": [
    "**性质3 证明**\n",
    "\n",
    "求证\n",
    "$$\n",
    "A^{-1}B = (A^{-1}B)^T\n",
    "$$\n",
    "使用转置的性质\n",
    "$$\n",
    "(A^{-1}B)^{T}=B^T(A^{-1})^T=B(A^T)^{-1}=BA^{-1}\n",
    "$$\n",
    "使用条件 $AB = BA$ \n",
    "\\begin{align}\n",
    "AB&=BA\\\\\n",
    "A^{-1}ABA^{-1}&=A^{-1}BAA^{-1}\\\\\n",
    "BA^{-1}&=A^{-1}B\n",
    "\\end{align}\n",
    "结合两个等式得\n",
    "$$\n",
    "(A^{-1}B)^{T}=BA^{-1}=A^{-1}B\n",
    "$$"
   ]
  },
  {
   "cell_type": "markdown",
   "id": "924d2229-d524-472a-ada9-58c2cd872b2e",
   "metadata": {},
   "source": [
    "$\\ast$ **Numpy求逆示例**"
   ]
  },
  {
   "cell_type": "code",
   "execution_count": 23,
   "id": "3f8cc129-4e9b-4393-a21a-b1b18d083843",
   "metadata": {},
   "outputs": [
    {
     "data": {
      "text/plain": [
       "array([[ 12.,  22.,   2.,   0.,  -6.],\n",
       "       [ -6.,   2.,  -1.,   5.,  -4.],\n",
       "       [ -5.,  19.,  -5.,  12., -12.],\n",
       "       [  3., -13.,   8.,  -3., -12.],\n",
       "       [ -5.,   7.,   1.,  14.,  -0.]])"
      ]
     },
     "execution_count": 23,
     "metadata": {},
     "output_type": "execute_result"
    }
   ],
   "source": [
    "A = np.round(10*np.random.randn(5,5)); A"
   ]
  },
  {
   "cell_type": "code",
   "execution_count": 24,
   "id": "3389870c-b9d6-44ab-9466-f4bbd06ea967",
   "metadata": {},
   "outputs": [
    {
     "data": {
      "text/plain": [
       "array([[-0.069, -0.438,  0.138,  0.043,  0.047],\n",
       "       [ 0.074,  0.208, -0.072, -0.035, -0.02 ],\n",
       "       [ 0.142,  0.444, -0.222,  0.002,  0.032],\n",
       "       [-0.072, -0.292,  0.101,  0.032,  0.096],\n",
       "       [ 0.015,  0.034, -0.061, -0.041,  0.031]])"
      ]
     },
     "execution_count": 24,
     "metadata": {},
     "output_type": "execute_result"
    }
   ],
   "source": [
    "Ainv = np.linalg.inv(A); Ainv"
   ]
  },
  {
   "cell_type": "code",
   "execution_count": 25,
   "id": "0be26c74-76e5-49ec-91e9-a9bf705ea15d",
   "metadata": {},
   "outputs": [
    {
     "data": {
      "text/plain": [
       "array([[ 1., -0., -0., -0., -0.],\n",
       "       [-0.,  1.,  0.,  0.,  0.],\n",
       "       [-0.,  0.,  1.,  0., -0.],\n",
       "       [ 0., -0., -0.,  1.,  0.],\n",
       "       [ 0.,  0., -0., -0.,  1.]])"
      ]
     },
     "execution_count": 25,
     "metadata": {},
     "output_type": "execute_result"
    }
   ],
   "source": [
    "A@Ainv"
   ]
  },
  {
   "cell_type": "markdown",
   "id": "9afbbbdf-d90c-44e5-89d5-c6da670113f7",
   "metadata": {},
   "source": [
    " ```-0.```意味小数点后仍有多位数字,但此处省略."
   ]
  },
  {
   "cell_type": "markdown",
   "id": "103bcdee-e648-4583-81f2-a960dadd54e0",
   "metadata": {},
   "source": [
    "<font face=\"黑体\" color=\"DarkOrange\" size=3> 使用伴随矩阵求逆矩阵</font>\n",
    "\n",
    "$$A^{-1}=\\frac{1}{\\operatorname{det} A}\\left[\\begin{array}{cccc}\n",
    "C_{11} & C_{21} & \\cdots & C_{n 1} \\\\\n",
    "C_{12} & C_{22} & \\cdots & C_{n 2} \\\\\n",
    "\\vdots & \\vdots & & \\vdots \\\\\n",
    "C_{1 n} & C_{2 n} & \\cdots & C_{n n}\n",
    "\\end{array}\\right]$$\n",
    "\n",
    "等式右边的矩阵是 $A$的 **伴随矩阵** , SymPy 对应函数 ```sy.matrices.matrices.MatrixDeterminant.adjugate```. \n",
    "\n",
    "并且是**代数余子式矩阵**的**转置**，其Sympy函数是 ```sy.matrices.matrices.MatrixDeterminant.cofactor_matrix```"
   ]
  },
  {
   "cell_type": "markdown",
   "id": "9c166523-841d-454f-8e8e-edab61583de2",
   "metadata": {},
   "source": [
    "$\\ast$ **伴随矩阵求逆Sympy示例**"
   ]
  },
  {
   "cell_type": "code",
   "execution_count": 26,
   "id": "dce676af-7fd7-4170-bbbf-fd7d68ccf379",
   "metadata": {},
   "outputs": [
    {
     "data": {
      "text/latex": [
       "$\\displaystyle \\left[\\begin{matrix}2 & 5 & 0 & 4 & 0\\\\-3 & 0 & 1 & 5 & 3\\\\0 & 1 & -4 & -3 & 0\\\\0 & 0 & 4 & -5 & -3\\\\0 & 0 & 4 & 5 & -3\\end{matrix}\\right]$"
      ],
      "text/plain": [
       "⎡2   5  0   4   0 ⎤\n",
       "⎢                 ⎥\n",
       "⎢-3  0  1   5   3 ⎥\n",
       "⎢                 ⎥\n",
       "⎢0   1  -4  -3  0 ⎥\n",
       "⎢                 ⎥\n",
       "⎢0   0  4   -5  -3⎥\n",
       "⎢                 ⎥\n",
       "⎣0   0  4   5   -3⎦"
      ]
     },
     "execution_count": 26,
     "metadata": {},
     "output_type": "execute_result"
    }
   ],
   "source": [
    "A = sy.randMatrix(5, min=-5, max = 5, percent = 80); A"
   ]
  },
  {
   "cell_type": "code",
   "execution_count": 27,
   "id": "a69d90db-c03c-420f-8f0e-4b8e306305f6",
   "metadata": {},
   "outputs": [
    {
     "data": {
      "text/latex": [
       "$\\displaystyle \\left[\\begin{matrix}-150 & 600 & 750 & 315 & 285\\\\-360 & -240 & -300 & -294 & 54\\\\-90 & -60 & 450 & -231 & 171\\\\0 & 0 & 0 & 210 & -210\\\\-120 & -80 & 600 & 42 & 578\\end{matrix}\\right]$"
      ],
      "text/plain": [
       "⎡-150  600   750   315   285 ⎤\n",
       "⎢                            ⎥\n",
       "⎢-360  -240  -300  -294   54 ⎥\n",
       "⎢                            ⎥\n",
       "⎢-90   -60   450   -231  171 ⎥\n",
       "⎢                            ⎥\n",
       "⎢ 0     0     0    210   -210⎥\n",
       "⎢                            ⎥\n",
       "⎣-120  -80   600    42   578 ⎦"
      ]
     },
     "execution_count": 27,
     "metadata": {},
     "output_type": "execute_result"
    }
   ],
   "source": [
    "A_adjugate = sy.matrices.matrices.MatrixDeterminant.adjugate(A); A_adjugate # A 的伴随矩阵"
   ]
  },
  {
   "cell_type": "markdown",
   "id": "9127135e-9f70-4c56-9f12-1517ff85276a",
   "metadata": {},
   "source": [
    "我们可以取$A$ 的几个代数余子式进行检验，如取 $A$ 的$(1, 3), (2, 4), (5, 4)$ 元素求其代数余子式 \n",
    "\n",
    "```注意 这几个元素的代数余子式在伴随矩阵中的位置是 (3, 1), (4, 2), (4, 5) ```"
   ]
  },
  {
   "cell_type": "code",
   "execution_count": 28,
   "id": "6c126e00-a610-4df4-9aa1-bd4a63a3fa3b",
   "metadata": {},
   "outputs": [
    {
     "data": {
      "image/png": "[encoded data removed]",
      "text/latex": [
       "$\\displaystyle -90$"
      ],
      "text/plain": [
       "-90"
      ]
     },
     "execution_count": 28,
     "metadata": {},
     "output_type": "execute_result"
    },
    {
     "data": {
      "image/png": "[encoded data removed]",
      "text/latex": [
       "$\\displaystyle 0$"
      ],
      "text/plain": [
       "0"
      ]
     },
     "execution_count": 28,
     "metadata": {},
     "output_type": "execute_result"
    },
    {
     "data": {
      "image/png": "[encoded data removed]",
      "text/latex": [
       "$\\displaystyle -210$"
      ],
      "text/plain": [
       "-210"
      ]
     },
     "execution_count": 28,
     "metadata": {},
     "output_type": "execute_result"
    }
   ],
   "source": [
    "(-1)**(1+3) * sy.matrices.matrices.MatrixDeterminant.minor(A, 0, 2) \n",
    "(-1)**(2+4) * sy.matrices.matrices.MatrixDeterminant.minor(A, 1, 3)\n",
    "(-1)**(5+4) * sy.matrices.matrices.MatrixDeterminant.minor(A, 4, 3)"
   ]
  },
  {
   "cell_type": "markdown",
   "id": "a24b45bf-2794-4350-b754-bb001a5446de",
   "metadata": {},
   "source": [
    " ```sy.N()``` 将数值转换为近似浮点数."
   ]
  },
  {
   "cell_type": "code",
   "execution_count": 29,
   "id": "6df43b2f-b05e-4e1b-8e4e-de862b6990ed",
   "metadata": {},
   "outputs": [
    {
     "data": {
      "text/latex": [
       "$\\displaystyle \\left[\\begin{matrix}0.0714 & -0.2857 & -0.3571 & -0.15 & -0.1357\\\\0.1714 & 0.1143 & 0.1429 & 0.14 & -0.0257\\\\0.0429 & 0.0286 & -0.2143 & 0.11 & -0.0814\\\\0 & 0 & 0 & -0.1 & 0.1\\\\0.0571 & 0.0381 & -0.2857 & -0.02 & -0.2752\\end{matrix}\\right]$"
      ],
      "text/plain": [
       "⎡0.0714  -0.2857  -0.3571  -0.15  -0.1357⎤\n",
       "⎢                                        ⎥\n",
       "⎢0.1714  0.1143   0.1429   0.14   -0.0257⎥\n",
       "⎢                                        ⎥\n",
       "⎢0.0429  0.0286   -0.2143  0.11   -0.0814⎥\n",
       "⎢                                        ⎥\n",
       "⎢  0        0        0     -0.1     0.1  ⎥\n",
       "⎢                                        ⎥\n",
       "⎣0.0571  0.0381   -0.2857  -0.02  -0.2752⎦"
      ]
     },
     "execution_count": 29,
     "metadata": {},
     "output_type": "execute_result"
    }
   ],
   "source": [
    "A_det = A.det()\n",
    "A_inv = (1/A_det)*A_adjugate  # 使用伴随矩阵求逆矩阵\n",
    "round_expr(sy.N(A_inv), 4)"
   ]
  },
  {
   "cell_type": "code",
   "execution_count": 30,
   "id": "96172600-9668-4161-bd84-57e37a34e478",
   "metadata": {},
   "outputs": [
    {
     "data": {
      "text/latex": [
       "$\\displaystyle \\left[\\begin{matrix}0.0714 & -0.2857 & -0.3571 & -0.15 & -0.1357\\\\0.1714 & 0.1143 & 0.1429 & 0.14 & -0.0257\\\\0.0429 & 0.0286 & -0.2143 & 0.11 & -0.0814\\\\0 & 0 & 0 & -0.1 & 0.1\\\\0.0571 & 0.0381 & -0.2857 & -0.02 & -0.2752\\end{matrix}\\right]$"
      ],
      "text/plain": [
       "⎡0.0714  -0.2857  -0.3571  -0.15  -0.1357⎤\n",
       "⎢                                        ⎥\n",
       "⎢0.1714  0.1143   0.1429   0.14   -0.0257⎥\n",
       "⎢                                        ⎥\n",
       "⎢0.0429  0.0286   -0.2143  0.11   -0.0814⎥\n",
       "⎢                                        ⎥\n",
       "⎢  0        0        0     -0.1     0.1  ⎥\n",
       "⎢                                        ⎥\n",
       "⎣0.0571  0.0381   -0.2857  -0.02  -0.2752⎦"
      ]
     },
     "execution_count": 30,
     "metadata": {},
     "output_type": "execute_result"
    }
   ],
   "source": [
    "round_expr(sy.N(A.inv()), 4)  # 内置函数求逆矩阵"
   ]
  },
  {
   "cell_type": "code",
   "execution_count": 31,
   "id": "1af38dd7-d846-4654-8236-1b4243bfd299",
   "metadata": {},
   "outputs": [
    {
     "data": {
      "text/latex": [
       "$\\displaystyle \\left[\\begin{matrix}0 & 0 & 0 & 0 & 0\\\\0 & 0 & 0 & 0 & 0\\\\0 & 0 & 0 & 0 & 0\\\\0 & 0 & 0 & 0 & 0\\\\0 & 0 & 0 & 0 & 0\\end{matrix}\\right]$"
      ],
      "text/plain": [
       "⎡0  0  0  0  0⎤\n",
       "⎢             ⎥\n",
       "⎢0  0  0  0  0⎥\n",
       "⎢             ⎥\n",
       "⎢0  0  0  0  0⎥\n",
       "⎢             ⎥\n",
       "⎢0  0  0  0  0⎥\n",
       "⎢             ⎥\n",
       "⎣0  0  0  0  0⎦"
      ]
     },
     "execution_count": 31,
     "metadata": {},
     "output_type": "execute_result"
    }
   ],
   "source": [
    "A_inv-A.inv()"
   ]
  },
  {
   "cell_type": "markdown",
   "id": "db9a4a69-8bbf-4621-a1db-8e21ad8163ec",
   "metadata": {},
   "source": [
    "# <font face=\"黑体\" color=\"Purple\"> 初等变换和初等矩阵</font>"
   ]
  },
  {
   "cell_type": "markdown",
   "id": "b452a4ee-e559-45de-818a-1b29d3519456",
   "metadata": {},
   "source": [
    "## <font face=\"黑体\" color=\"DarkViolet\"> 初等变换</font>"
   ]
  },
  {
   "cell_type": "markdown",
   "id": "4d1d7cf2-af76-4ecc-a74f-a77cc7d39d24",
   "metadata": {},
   "source": [
    "1. **倍乘**：用非零常数$k$ 乘以矩阵$A$ 某行（列）的每个元素\n",
    "2. **互换**：互换矩阵$A$ 中两行（列）元素的位置\n",
    "3. **倍加**：把某行（列）所有元素的$k$ 另一行（列）对应元素上"
   ]
  },
  {
   "cell_type": "markdown",
   "id": "391088e2-e832-4c16-a1a0-1ad3e5547b55",
   "metadata": {},
   "source": [
    "## <font face=\"黑体\" color=\"DarkViolet\"> 单位矩阵</font>"
   ]
  },
  {
   "cell_type": "code",
   "execution_count": 32,
   "id": "554640c5-f843-4aaa-9e80-ae6a3364f30f",
   "metadata": {},
   "outputs": [
    {
     "data": {
      "text/latex": [
       "$\\displaystyle \\left[\\begin{matrix}1 & 0 & 0 & 0 & 0\\\\0 & 1 & 0 & 0 & 0\\\\0 & 0 & 1 & 0 & 0\\\\0 & 0 & 0 & 1 & 0\\\\0 & 0 & 0 & 0 & 1\\end{matrix}\\right]$"
      ],
      "text/plain": [
       "⎡1  0  0  0  0⎤\n",
       "⎢             ⎥\n",
       "⎢0  1  0  0  0⎥\n",
       "⎢             ⎥\n",
       "⎢0  0  1  0  0⎥\n",
       "⎢             ⎥\n",
       "⎢0  0  0  1  0⎥\n",
       "⎢             ⎥\n",
       "⎣0  0  0  0  1⎦"
      ]
     },
     "execution_count": 32,
     "metadata": {},
     "output_type": "execute_result"
    }
   ],
   "source": [
    "sy.eye(5) # Sympy生成n阶单位矩阵"
   ]
  },
  {
   "cell_type": "markdown",
   "id": "e9cbf7d6-ad50-4f0a-a0c8-88cc09830f68",
   "metadata": {},
   "source": [
    "单位矩阵性质：\n",
    "$$\n",
    "AI=IA = A\n",
    "$$"
   ]
  },
  {
   "cell_type": "code",
   "execution_count": 33,
   "id": "fcaab376-f3f6-425a-b216-032d7243cac4",
   "metadata": {},
   "outputs": [
    {
     "data": {
      "text/plain": [
       "array([[1., 0., 0., 0., 0.],\n",
       "       [0., 1., 0., 0., 0.],\n",
       "       [0., 0., 1., 0., 0.],\n",
       "       [0., 0., 0., 1., 0.],\n",
       "       [0., 0., 0., 0., 1.]])"
      ]
     },
     "execution_count": 33,
     "metadata": {},
     "output_type": "execute_result"
    }
   ],
   "source": [
    "I = np.eye(5); I"
   ]
  },
  {
   "cell_type": "code",
   "execution_count": 34,
   "id": "feff25d8-84fb-45c0-8ab5-e3df50409674",
   "metadata": {},
   "outputs": [
    {
     "data": {
      "text/plain": [
       "array([[60., 53., 36., 58., 75.],\n",
       "       [31., 62., 57., 15.,  1.],\n",
       "       [18., 77., 92., 71., 21.],\n",
       "       [95., 55., 33., 86., 90.],\n",
       "       [77., 77.,  6., 44., 97.]])"
      ]
     },
     "execution_count": 34,
     "metadata": {},
     "output_type": "execute_result"
    }
   ],
   "source": [
    "A = np.around(np.random.rand(5, 5)*100); A # 生成一个随机矩阵"
   ]
  },
  {
   "cell_type": "code",
   "execution_count": 35,
   "id": "0567aeaf-0d1f-4f96-985e-c0559a471b47",
   "metadata": {},
   "outputs": [
    {
     "data": {
      "text/plain": [
       "array([[0., 0., 0., 0., 0.],\n",
       "       [0., 0., 0., 0., 0.],\n",
       "       [0., 0., 0., 0., 0.],\n",
       "       [0., 0., 0., 0., 0.],\n",
       "       [0., 0., 0., 0., 0.]])"
      ]
     },
     "execution_count": 35,
     "metadata": {},
     "output_type": "execute_result"
    }
   ],
   "source": [
    "A@I - I@A"
   ]
  },
  {
   "cell_type": "markdown",
   "id": "880f0d5a-df33-4d81-ab99-3617910acfa5",
   "metadata": {},
   "source": [
    "## <font face=\"黑体\" color=\"DarkViolet\"> 初等矩阵</font>"
   ]
  },
  {
   "cell_type": "markdown",
   "id": "6bba2097-53de-48f4-8dd6-feea6fb258a4",
   "metadata": {},
   "source": [
    "1. 单位矩阵经过一次初等变换得到的矩阵就是**初等矩阵**\n",
    "2. 初等矩阵$P$ 左乘（右乘）矩阵$A$ ，得到的$PA (AP)$ ，结果相当于对矩阵$A$ 做一次和$P$ 相同的初等行（列）变换"
   ]
  },
  {
   "cell_type": "code",
   "execution_count": 36,
   "id": "fc890344-378e-4824-80ea-6554d61a3168",
   "metadata": {},
   "outputs": [
    {
     "data": {
      "text/latex": [
       "$\\displaystyle \\left[\\begin{matrix}99 & 9 & 0\\\\18 & 50 & 54\\\\69 & 36 & 0\\end{matrix}\\right]$"
      ],
      "text/plain": [
       "⎡99  9   0 ⎤\n",
       "⎢          ⎥\n",
       "⎢18  50  54⎥\n",
       "⎢          ⎥\n",
       "⎣69  36  0 ⎦"
      ]
     },
     "execution_count": 36,
     "metadata": {},
     "output_type": "execute_result"
    }
   ],
   "source": [
    "A = sy.randMatrix(3, percent = 80); A # 生成一个80%元素非零的3阶矩阵"
   ]
  },
  {
   "cell_type": "code",
   "execution_count": 37,
   "id": "aba8aa8f-e8ed-4a69-b734-09d2c37bcde5",
   "metadata": {},
   "outputs": [
    {
     "data": {
      "text/latex": [
       "$\\displaystyle \\left[\\begin{matrix}0 & 1 & 0\\\\1 & 0 & 0\\\\0 & 0 & 1\\end{matrix}\\right]$"
      ],
      "text/plain": [
       "⎡0  1  0⎤\n",
       "⎢       ⎥\n",
       "⎢1  0  0⎥\n",
       "⎢       ⎥\n",
       "⎣0  0  1⎦"
      ]
     },
     "execution_count": 37,
     "metadata": {},
     "output_type": "execute_result"
    }
   ],
   "source": [
    "P1 = sy.Matrix([[0, 1, 0], [1, 0, 0], [0, 0, 1]]);P1"
   ]
  },
  {
   "cell_type": "code",
   "execution_count": 38,
   "id": "e8071462-2c00-4082-a1fe-6685d4557765",
   "metadata": {},
   "outputs": [
    {
     "data": {
      "text/latex": [
       "$\\displaystyle \\left[\\begin{matrix}18 & 50 & 54\\\\99 & 9 & 0\\\\69 & 36 & 0\\end{matrix}\\right]$"
      ],
      "text/plain": [
       "⎡18  50  54⎤\n",
       "⎢          ⎥\n",
       "⎢99  9   0 ⎥\n",
       "⎢          ⎥\n",
       "⎣69  36  0 ⎦"
      ]
     },
     "execution_count": 38,
     "metadata": {},
     "output_type": "execute_result"
    },
    {
     "data": {
      "text/latex": [
       "$\\displaystyle \\left[\\begin{matrix}9 & 99 & 0\\\\50 & 18 & 54\\\\36 & 69 & 0\\end{matrix}\\right]$"
      ],
      "text/plain": [
       "⎡9   99  0 ⎤\n",
       "⎢          ⎥\n",
       "⎢50  18  54⎥\n",
       "⎢          ⎥\n",
       "⎣36  69  0 ⎦"
      ]
     },
     "execution_count": 38,
     "metadata": {},
     "output_type": "execute_result"
    }
   ],
   "source": [
    "P1*A\n",
    "A*P1"
   ]
  },
  {
   "cell_type": "code",
   "execution_count": 39,
   "id": "cfc3e0f5-4e6a-4e80-bf58-321a0a2ccd55",
   "metadata": {},
   "outputs": [
    {
     "data": {
      "text/latex": [
       "$\\displaystyle \\left[\\begin{matrix}1 & 0 & 0\\\\0 & 1 & 0\\\\0 & 0 & 10\\end{matrix}\\right]$"
      ],
      "text/plain": [
       "⎡1  0  0 ⎤\n",
       "⎢        ⎥\n",
       "⎢0  1  0 ⎥\n",
       "⎢        ⎥\n",
       "⎣0  0  10⎦"
      ]
     },
     "execution_count": 39,
     "metadata": {},
     "output_type": "execute_result"
    }
   ],
   "source": [
    "P2 = sy.Matrix([[1, 0, 0], [0, 1, 0], [0, 0, 10]]);P2"
   ]
  },
  {
   "cell_type": "code",
   "execution_count": 40,
   "id": "b9b89f83-0d02-467c-be77-f2ea1f539de3",
   "metadata": {},
   "outputs": [
    {
     "data": {
      "text/latex": [
       "$\\displaystyle \\left[\\begin{matrix}99 & 9 & 0\\\\18 & 50 & 54\\\\690 & 360 & 0\\end{matrix}\\right]$"
      ],
      "text/plain": [
       "⎡99    9   0 ⎤\n",
       "⎢            ⎥\n",
       "⎢18   50   54⎥\n",
       "⎢            ⎥\n",
       "⎣690  360  0 ⎦"
      ]
     },
     "execution_count": 40,
     "metadata": {},
     "output_type": "execute_result"
    },
    {
     "data": {
      "text/latex": [
       "$\\displaystyle \\left[\\begin{matrix}99 & 9 & 0\\\\18 & 50 & 540\\\\69 & 36 & 0\\end{matrix}\\right]$"
      ],
      "text/plain": [
       "⎡99  9    0 ⎤\n",
       "⎢           ⎥\n",
       "⎢18  50  540⎥\n",
       "⎢           ⎥\n",
       "⎣69  36   0 ⎦"
      ]
     },
     "execution_count": 40,
     "metadata": {},
     "output_type": "execute_result"
    }
   ],
   "source": [
    "P2*A\n",
    "A*P2"
   ]
  },
  {
   "cell_type": "markdown",
   "id": "e6dfbcbd-9f91-4d0a-be16-c14a976eaa97",
   "metadata": {},
   "source": [
    "## <font face=\"黑体\" color=\"DarkViolet\"> 初等变换求逆矩阵</font>"
   ]
  },
  {
   "cell_type": "markdown",
   "id": "9b180619-61aa-4997-8d76-e00bdb96c6dd",
   "metadata": {},
   "source": [
    "初等变换在求解逆矩阵时可以把矩阵$A$ 和同阶的$I$ 合并成$[A|I]$ ，对该矩阵做初等行变换，如果矩阵$A$存在逆矩阵的话，可以得到$[I|A]$\n",
    "\n",
    "证明：\n",
    "由可逆的定义可知\n",
    "$$\n",
    "AA^{-1} = A^{-1}A = I\n",
    "$$\n",
    "\n",
    "一系列初等行变换相当于在矩阵$A$左乘初等矩阵$P_1, P_2, \\cdots , P_n$\n",
    "\n",
    "$$\n",
    "(P_n\\cdots P_2P_1)A = I, \\qquad (P_n\\cdots P_2P_1) = A^{-1}\n",
    "$$\n",
    "\n",
    "对$I$做相同的初等行变换相当于左乘相同的初等矩阵$P_1, P_2, \\cdots , P_n$\n",
    "\n",
    "$$\n",
    "(P_n\\cdots P_2P_1)I = P_n\\cdots P_2P_1 =A^{-1}\n",
    "$$"
   ]
  },
  {
   "cell_type": "code",
   "execution_count": 41,
   "id": "1705babb-3ede-49e6-aabe-34ab2c708daa",
   "metadata": {},
   "outputs": [
    {
     "data": {
      "text/plain": [
       "array([[  9.,  -8.,  -4., -11., -16.],\n",
       "       [ 16.,   3.,  -1.,  11.,   3.],\n",
       "       [  1.,   7.,  -7.,  12.,   0.],\n",
       "       [ -0.,  10.,  -6., -14.,   3.],\n",
       "       [  4.,   2.,   6.,  -8.,  10.]])"
      ]
     },
     "execution_count": 41,
     "metadata": {},
     "output_type": "execute_result"
    }
   ],
   "source": [
    "A = np.round(10*np.random.randn(5,5)); A"
   ]
  },
  {
   "cell_type": "code",
   "execution_count": 42,
   "id": "d554cce9-7df2-41ad-8635-2edb1792142a",
   "metadata": {},
   "outputs": [
    {
     "data": {
      "text/plain": [
       "array([[1., 0., 0., 0., 0.],\n",
       "       [0., 1., 0., 0., 0.],\n",
       "       [0., 0., 1., 0., 0.],\n",
       "       [0., 0., 0., 1., 0.],\n",
       "       [0., 0., 0., 0., 1.]])"
      ]
     },
     "execution_count": 42,
     "metadata": {},
     "output_type": "execute_result"
    }
   ],
   "source": [
    "I = np.eye(5); I"
   ]
  },
  {
   "cell_type": "code",
   "execution_count": 43,
   "id": "e45fd99b-5b53-453c-ad82-e59ed13fc7bb",
   "metadata": {},
   "outputs": [
    {
     "data": {
      "text/latex": [
       "$\\displaystyle \\left[\\begin{matrix}9.0 & -8.0 & -4.0 & -11.0 & -16.0 & 1.0 & 0 & 0 & 0 & 0\\\\16.0 & 3.0 & -1.0 & 11.0 & 3.0 & 0 & 1.0 & 0 & 0 & 0\\\\1.0 & 7.0 & -7.0 & 12.0 & 0 & 0 & 0 & 1.0 & 0 & 0\\\\0 & 10.0 & -6.0 & -14.0 & 3.0 & 0 & 0 & 0 & 1.0 & 0\\\\4.0 & 2.0 & 6.0 & -8.0 & 10.0 & 0 & 0 & 0 & 0 & 1.0\\end{matrix}\\right]$"
      ],
      "text/plain": [
       "⎡9.0   -8.0  -4.0  -11.0  -16.0  1.0   0    0    0    0 ⎤\n",
       "⎢                                                       ⎥\n",
       "⎢16.0  3.0   -1.0  11.0    3.0    0   1.0   0    0    0 ⎥\n",
       "⎢                                                       ⎥\n",
       "⎢1.0   7.0   -7.0  12.0     0     0    0   1.0   0    0 ⎥\n",
       "⎢                                                       ⎥\n",
       "⎢ 0    10.0  -6.0  -14.0   3.0    0    0    0   1.0   0 ⎥\n",
       "⎢                                                       ⎥\n",
       "⎣4.0   2.0   6.0   -8.0   10.0    0    0    0    0   1.0⎦"
      ]
     },
     "execution_count": 43,
     "metadata": {},
     "output_type": "execute_result"
    }
   ],
   "source": [
    "AI = np.hstack((A, I)) # stack the matrix A and I horizontally\n",
    "AI = sy.Matrix(AI); AI"
   ]
  },
  {
   "cell_type": "code",
   "execution_count": 44,
   "id": "ba6d0845-0827-4cb1-8117-660db7f7867a",
   "metadata": {},
   "outputs": [
    {
     "data": {
      "text/latex": [
       "$\\displaystyle \\left( \\left[\\begin{matrix}1 & 0 & 0 & 0 & 0 & 0.0364842454394693 & 0.0265339966832504 & 0.0315091210613599 & -0.0116086235489221 & 0.0538971807628524\\\\0 & 1 & 0 & 0 & 0 & -3.28606965174129 & 4.23134328358209 & -8.0273631840796 & 3.32587064676617 & -7.52487562189055\\\\0 & 0 & 1 & 0 & 0 & -3.64759535655058 & 4.69568822553897 & -8.9759535655058 & 3.62271973466003 & -8.33167495854063\\\\0 & 0 & 0 & 1 & 0 & -0.213930348258706 & 0.26865671641791 & -0.472636815920398 & 0.174129353233831 & -0.475124378109453\\\\0 & 0 & 0 & 0 & 1 & 2.66003316749585 & -3.45936981757877 & 6.60033167495854 & -2.69485903814262 & 6.20232172470978\\end{matrix}\\right], \\  \\left( 0, \\  1, \\  2, \\  3, \\  4\\right)\\right)$"
      ],
      "text/plain": [
       "⎛⎡1  0  0  0  0  0.0364842454394693  0.0265339966832504  0.0315091210613599  -\n",
       "⎜⎢                                                                            \n",
       "⎜⎢0  1  0  0  0  -3.28606965174129    4.23134328358209    -8.0273631840796    \n",
       "⎜⎢                                                                            \n",
       "⎜⎢0  0  1  0  0  -3.64759535655058    4.69568822553897    -8.9759535655058    \n",
       "⎜⎢                                                                            \n",
       "⎜⎢0  0  0  1  0  -0.213930348258706   0.26865671641791   -0.472636815920398   \n",
       "⎜⎢                                                                            \n",
       "⎝⎣0  0  0  0  1   2.66003316749585   -3.45936981757877    6.60033167495854    \n",
       "\n",
       "0.0116086235489221  0.0538971807628524⎤                 ⎞\n",
       "                                      ⎥                 ⎟\n",
       "3.32587064676617    -7.52487562189055 ⎥                 ⎟\n",
       "                                      ⎥                 ⎟\n",
       "3.62271973466003    -8.33167495854063 ⎥, (0, 1, 2, 3, 4)⎟\n",
       "                                      ⎥                 ⎟\n",
       "0.174129353233831   -0.475124378109453⎥                 ⎟\n",
       "                                      ⎥                 ⎟\n",
       "-2.69485903814262    6.20232172470978 ⎦                 ⎠"
      ]
     },
     "execution_count": 44,
     "metadata": {},
     "output_type": "execute_result"
    }
   ],
   "source": [
    "AI_rref = AI.rref(); AI_rref"
   ]
  },
  {
   "cell_type": "code",
   "execution_count": 45,
   "id": "ae2eb9f3-5a7e-438c-81a0-51d287f02335",
   "metadata": {},
   "outputs": [
    {
     "data": {
      "text/latex": [
       "$\\displaystyle \\left[\\begin{matrix}0.0364842454394693 & 0.0265339966832504 & 0.0315091210613599 & -0.0116086235489221 & 0.0538971807628524\\\\-3.28606965174129 & 4.23134328358209 & -8.0273631840796 & 3.32587064676617 & -7.52487562189055\\\\-3.64759535655058 & 4.69568822553897 & -8.9759535655058 & 3.62271973466003 & -8.33167495854063\\\\-0.213930348258706 & 0.26865671641791 & -0.472636815920398 & 0.174129353233831 & -0.475124378109453\\\\2.66003316749585 & -3.45936981757877 & 6.60033167495854 & -2.69485903814262 & 6.20232172470978\\end{matrix}\\right]$"
      ],
      "text/plain": [
       "⎡0.0364842454394693  0.0265339966832504  0.0315091210613599  -0.01160862354892\n",
       "⎢                                                                             \n",
       "⎢-3.28606965174129    4.23134328358209    -8.0273631840796    3.32587064676617\n",
       "⎢                                                                             \n",
       "⎢-3.64759535655058    4.69568822553897    -8.9759535655058    3.62271973466003\n",
       "⎢                                                                             \n",
       "⎢-0.213930348258706   0.26865671641791   -0.472636815920398   0.17412935323383\n",
       "⎢                                                                             \n",
       "⎣ 2.66003316749585   -3.45936981757877    6.60033167495854    -2.6948590381426\n",
       "\n",
       "21  0.0538971807628524⎤\n",
       "                      ⎥\n",
       "    -7.52487562189055 ⎥\n",
       "                      ⎥\n",
       "    -8.33167495854063 ⎥\n",
       "                      ⎥\n",
       "1   -0.475124378109453⎥\n",
       "                      ⎥\n",
       "2    6.20232172470978 ⎦"
      ]
     },
     "execution_count": 45,
     "metadata": {},
     "output_type": "execute_result"
    }
   ],
   "source": [
    "Ainv = AI_rref[0][:,5:];Ainv # 逆矩阵为第一层第五列后的部分"
   ]
  },
  {
   "cell_type": "code",
   "execution_count": 46,
   "id": "00e26011-470c-47be-a07d-ecd50921152c",
   "metadata": {},
   "outputs": [
    {
     "data": {
      "text/latex": [
       "$\\displaystyle \\left[\\begin{matrix}0.0365 & 0.0265 & 0.0315 & -0.0116 & 0.0539\\\\-3.2861 & 4.2313 & -8.0274 & 3.3259 & -7.5249\\\\-3.6476 & 4.6957 & -8.976 & 3.6227 & -8.3317\\\\-0.2139 & 0.2687 & -0.4726 & 0.1741 & -0.4751\\\\2.66 & -3.4594 & 6.6003 & -2.6949 & 6.2023\\end{matrix}\\right]$"
      ],
      "text/plain": [
       "⎡0.0365   0.0265   0.0315   -0.0116  0.0539 ⎤\n",
       "⎢                                           ⎥\n",
       "⎢-3.2861  4.2313   -8.0274  3.3259   -7.5249⎥\n",
       "⎢                                           ⎥\n",
       "⎢-3.6476  4.6957   -8.976   3.6227   -8.3317⎥\n",
       "⎢                                           ⎥\n",
       "⎢-0.2139  0.2687   -0.4726  0.1741   -0.4751⎥\n",
       "⎢                                           ⎥\n",
       "⎣ 2.66    -3.4594  6.6003   -2.6949  6.2023 ⎦"
      ]
     },
     "execution_count": 46,
     "metadata": {},
     "output_type": "execute_result"
    }
   ],
   "source": [
    "round_expr(Ainv, 4) "
   ]
  },
  {
   "cell_type": "code",
   "execution_count": 47,
   "id": "61c53b94-f60a-434d-a39e-1a13606af0bb",
   "metadata": {},
   "outputs": [
    {
     "data": {
      "text/latex": [
       "$\\displaystyle \\left[\\begin{matrix}1.0 & 0 & 0 & 0 & 0\\\\0 & 1.0 & 0 & 0 & 0\\\\0 & 0 & 1.0 & 0 & 0\\\\0 & 0 & 0 & 1.0 & 0\\\\0 & 0 & 0 & 0 & 1.0\\end{matrix}\\right]$"
      ],
      "text/plain": [
       "⎡1.0   0    0    0    0 ⎤\n",
       "⎢                       ⎥\n",
       "⎢ 0   1.0   0    0    0 ⎥\n",
       "⎢                       ⎥\n",
       "⎢ 0    0   1.0   0    0 ⎥\n",
       "⎢                       ⎥\n",
       "⎢ 0    0    0   1.0   0 ⎥\n",
       "⎢                       ⎥\n",
       "⎣ 0    0    0    0   1.0⎦"
      ]
     },
     "execution_count": 47,
     "metadata": {},
     "output_type": "execute_result"
    }
   ],
   "source": [
    "A = sy.Matrix(A)\n",
    "round_expr(A*Ainv, 4) "
   ]
  },
  {
   "cell_type": "markdown",
   "id": "27fc1c6c-bae7-4d2c-9d58-79b415aa1044",
   "metadata": {},
   "source": [
    "# <font face=\"黑体\" color=\"Purple\"> 分块矩阵</font>"
   ]
  },
  {
   "cell_type": "markdown",
   "id": "cda9c26c-6dc7-4911-9860-b091f7ca7e8f",
   "metadata": {},
   "source": [
    "在上一小节利用 $[A|I]$ 求逆矩阵的过程中就用到了分块的思想，将矩阵用若干纵线和横线分成许多小块，每一小块称为原矩阵的子块，把子块看作原矩阵的一个元素，则原矩阵叫做**分块矩阵**。"
   ]
  },
  {
   "cell_type": "markdown",
   "id": "69da9539-45cb-4c9a-9a24-6f39040bc355",
   "metadata": {},
   "source": [
    "按行分块：\n",
    "$$\n",
    "A=\\left[\\begin{array}{cccc}\n",
    "a_{11} & a_{12} & \\cdots & a_{1 n} \\\\\n",
    "\\hline \n",
    "a_{21} & a_{22} & \\cdots & a_{2 n} \\\\\n",
    "\\hline \n",
    "\\vdots & \\vdots & &\\vdots & \\\\\n",
    "\\hline\n",
    "a_{n 1}& a_{n 2}& \\cdots & a_{n n}\n",
    "\\end{array}\\right]\n",
    "\\qquad = \\left[\\begin{array}{cccc}\n",
    "{\\alpha }_{1} \\\\\n",
    "{\\alpha }_{2} \\\\\n",
    "\\vdots \\\\\n",
    "{\\alpha }_{n}\n",
    "\\end{array}\\right]\n",
    "$$"
   ]
  },
  {
   "cell_type": "markdown",
   "id": "eb205cb0-212c-4646-b853-ce133145638c",
   "metadata": {},
   "source": [
    "按列分块：\n",
    "$$\n",
    "B=\\left[\\begin{array}{c|c|c|c}\n",
    "b_{11} & b_{12} & \\cdots & b_{1 n} \\\\\n",
    "b_{21} & b_{22} & \\cdots & b_{2 n} \\\\\n",
    "\\vdots & \\vdots & &\\vdots & \\\\\n",
    "b_{n 1}& b_{n 2}& \\cdots & b_{n n}\n",
    "\\end{array}\\right]\n",
    "\\qquad = \\left[\\begin{array}{cccc}\n",
    "{\\beta }_{1} & {\\beta }_{2} & \\cdots & {\\beta }_{n}\n",
    "\\end{array}\\right]\n",
    "$$"
   ]
  },
  {
   "cell_type": "markdown",
   "id": "00b7d83f-4a31-40eb-982d-2e981b5ac61b",
   "metadata": {},
   "source": [
    "按特性分块：\n",
    "$$\n",
    "C=\\left[\\begin{array}{cc|ccc}\n",
    "c_{11} & c_{12} & {0} & {0} & 0 \\\\\n",
    "c_{21} & c_{22} & 0 & 0 & 0 \\\\\n",
    "\\hline \n",
    "c_{31} & c_{32} & c_{33} & c_{34} & c_{35} \\\\\n",
    "c_{41}& c_{42} & c_{43} & c_{44} & c_{54}\n",
    "\\end{array}\\right]\n",
    "\\qquad = \\left[\\begin{array}{cccc}\n",
    "C_{1} & 0 \\\\\n",
    "C_{3} & C_{4}\n",
    "\\end{array}\\right]\n",
    "$$"
   ]
  },
  {
   "cell_type": "code",
   "execution_count": 53,
   "id": "61602015-e7da-47da-8198-34e45c49a392",
   "metadata": {},
   "outputs": [
    {
     "data": {
      "text/plain": [
       "array([[2., 0., 0.],\n",
       "       [0., 2., 0.],\n",
       "       [0., 0., 2.]])"
      ]
     },
     "execution_count": 53,
     "metadata": {},
     "output_type": "execute_result"
    }
   ],
   "source": [
    "A = np.eye(3)*2; A"
   ]
  },
  {
   "cell_type": "code",
   "execution_count": 59,
   "id": "ee472c55-fe25-461b-ad65-a7831a2f8cf8",
   "metadata": {},
   "outputs": [
    {
     "data": {
      "text/plain": [
       "array([[0.139, 0.175, 0.452, 0.753],\n",
       "       [0.097, 0.705, 0.058, 0.634],\n",
       "       [0.274, 0.465, 0.771, 0.89 ],\n",
       "       [0.58 , 0.54 , 0.126, 0.513]])"
      ]
     },
     "execution_count": 59,
     "metadata": {},
     "output_type": "execute_result"
    }
   ],
   "source": [
    "B = np.random.rand(4,4); B"
   ]
  },
  {
   "cell_type": "code",
   "execution_count": 61,
   "id": "0be703bb-8535-4a08-ae3e-d2e7de893c12",
   "metadata": {},
   "outputs": [
    {
     "data": {
      "text/plain": [
       "array([[2.   , 0.   , 0.   , 0.   , 0.   , 0.   , 0.   ],\n",
       "       [0.   , 2.   , 0.   , 0.   , 0.   , 0.   , 0.   ],\n",
       "       [0.   , 0.   , 2.   , 0.   , 0.   , 0.   , 0.   ],\n",
       "       [1.   , 1.   , 1.   , 0.139, 0.175, 0.452, 0.753],\n",
       "       [1.   , 1.   , 1.   , 0.097, 0.705, 0.058, 0.634],\n",
       "       [1.   , 1.   , 1.   , 0.274, 0.465, 0.771, 0.89 ],\n",
       "       [1.   , 1.   , 1.   , 0.58 , 0.54 , 0.126, 0.513]])"
      ]
     },
     "execution_count": 61,
     "metadata": {},
     "output_type": "execute_result"
    }
   ],
   "source": [
    "A_B = np.block([[A, np.zeros((3,4))], [np.ones((4,3)), B]]); A_B"
   ]
  },
  {
   "cell_type": "code",
   "execution_count": null,
   "id": "d07fa2b6-58d5-433f-9ea2-49ac78a3cbd1",
   "metadata": {},
   "outputs": [],
   "source": []
  }
 ],
 "metadata": {
  "kernelspec": {
   "display_name": "Python 3 (ipykernel)",
   "language": "python",
   "name": "python3"
  },
  "language_info": {
   "codemirror_mode": {
    "name": "ipython",
    "version": 3
   },
   "file_extension": ".py",
   "mimetype": "text/x-python",
   "name": "python",
   "nbconvert_exporter": "python",
   "pygments_lexer": "ipython3",
   "version": "3.9.9"
  },
  "toc-autonumbering": true
 },
 "nbformat": 4,
 "nbformat_minor": 5
}
