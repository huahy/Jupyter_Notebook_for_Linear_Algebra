{
 "cells": [
  {
   "cell_type": "code",
   "execution_count": 53,
   "metadata": {},
   "outputs": [],
   "source": [
    "import matplotlib.pyplot as plt\n",
    "import matplotlib as mpl\n",
    "import numpy as np\n",
    "import sympy as sy\n",
    "sy.init_printing() "
   ]
  },
  {
   "cell_type": "code",
   "execution_count": 54,
   "metadata": {},
   "outputs": [],
   "source": [
    "np.set_printoptions(precision=3)\n",
    "np.set_printoptions(suppress=True)"
   ]
  },
  {
   "cell_type": "markdown",
   "metadata": {},
   "source": [
    "# <font face=\"gotham\" color=\"purple\"> 特征值和特征向量"
   ]
  },
  {
   "cell_type": "markdown",
   "metadata": {},
   "source": [
    "首先给出特征值与特征向量的定义：对矩阵 $A$，若有 $Ax = \\lambda x$，则 $x$ 为矩阵 $A$ 的特征向量，$\\lambda$ 为矩阵的特征值。"
   ]
  },
  {
   "cell_type": "markdown",
   "metadata": {},
   "source": [
    "上式也可表示为,\n",
    "\n",
    "$$\n",
    "(A-\\lambda I)x = 0\n",
    "$$\n",
    "\n",
    "由于特征向量不可能为零向量：\n",
    "\n",
    "1. $(A-\\lambda I)$ 的列或行线性无关。\n",
    "2. $(A-\\lambda I)$ 不是满秩， $Rank(A)<n$.\n",
    "3. $(A-\\lambda I)$ 不可逆。\n",
    "4. $\\text{det}(A-\\lambda I)=0$, 此方程也称为特征方程。"
   ]
  },
  {
   "cell_type": "markdown",
   "metadata": {},
   "source": [
    "考虑一个矩阵 $A$\n",
    "\n",
    "$$\n",
    "A=\\left[\\matrix{1 & 0 & 0\\cr 1 & 0 & 1\\cr 2 & -2 & 3}\\right]\n",
    "$$\n",
    "\n",
    "建立特征方程，"
   ]
  },
  {
   "cell_type": "markdown",
   "metadata": {},
   "source": [
    "$$\n",
    "\\text{det}\\left(\n",
    "\\left[\\matrix{1 & 0 & 0\\cr 1 & 0 & 1\\cr 2 & -2 & 3}\\right]-\n",
    "\\lambda\n",
    "\\left[\\matrix{1 & 0 & 0\\cr 0 & 1 & 0\\cr 0 & 0 & 1}\\right]\n",
    "\\right)=0\n",
    "$$"
   ]
  },
  {
   "cell_type": "markdown",
   "metadata": {},
   "source": [
    "使用 SymPy 中的 ```charpoly``` 和 ```factor```， 我们可以直接解出特征值。"
   ]
  },
  {
   "cell_type": "code",
   "execution_count": 55,
   "metadata": {},
   "outputs": [],
   "source": [
    "lamda = sy.symbols('lamda') # 'lamda' withtout 'b' is reserved for SymPy, lambda is reserved for Python"
   ]
  },
  {
   "cell_type": "markdown",
   "metadata": {},
   "source": [
    "```charpoly``` 返回特征方程。"
   ]
  },
  {
   "cell_type": "code",
   "execution_count": 56,
   "metadata": {},
   "outputs": [
    {
     "data": {
      "image/png": "[encoded data removed]",
      "text/latex": [
       "$\\displaystyle \\operatorname{PurePoly}{\\left( \\lambda^{3} - 4 \\lambda^{2} + 5 \\lambda - 2, \\lambda, domain=\\mathbb{Z} \\right)}$"
      ],
      "text/plain": [
       "PurePoly(lamda**3 - 4*lamda**2 + 5*lamda - 2, lamda, domain='ZZ')"
      ]
     },
     "execution_count": 56,
     "metadata": {},
     "output_type": "execute_result"
    }
   ],
   "source": [
    "A = sy.Matrix([[1, 0, 0], [1, 0, 1], [2, -2, 3]])\n",
    "p = A.charpoly(lamda); p"
   ]
  },
  {
   "cell_type": "markdown",
   "metadata": {},
   "source": [
    "对多项式进行分解，便于得到方程的解。"
   ]
  },
  {
   "cell_type": "code",
   "execution_count": 57,
   "metadata": {},
   "outputs": [
    {
     "data": {
      "image/png": "[encoded data removed]",
      "text/latex": [
       "$\\displaystyle \\left(\\lambda - 2\\right) \\left(\\lambda - 1\\right)^{2}$"
      ],
      "text/plain": [
       "               2\n",
       "(λ - 2)⋅(λ - 1) "
      ]
     },
     "execution_count": 57,
     "metadata": {},
     "output_type": "execute_result"
    }
   ],
   "source": [
    "sy.factor(p)"
   ]
  },
  {
   "cell_type": "markdown",
   "metadata": {},
   "source": [
    "由上式可得到特征值为 $\\lambda =1$ ，$\\lambda =2$。 如果不需要分解因式结果，我们可以使用 ```solve``` 。"
   ]
  },
  {
   "cell_type": "code",
   "execution_count": 58,
   "metadata": {},
   "outputs": [
    {
     "data": {
      "image/png": "[encoded data removed]",
      "text/latex": [
       "$\\displaystyle \\left[ 1, \\  2\\right]$"
      ],
      "text/plain": [
       "[1, 2]"
      ]
     },
     "execution_count": 58,
     "metadata": {},
     "output_type": "execute_result"
    }
   ],
   "source": [
    "sy.solve(p,lamda)"
   ]
  },
  {
   "cell_type": "markdown",
   "metadata": {},
   "source": [
    "或者直接使用 ```eigenvals``` 。"
   ]
  },
  {
   "cell_type": "code",
   "execution_count": 59,
   "metadata": {},
   "outputs": [
    {
     "data": {
      "image/png": "[encoded data removed]",
      "text/latex": [
       "$\\displaystyle \\left\\{ 1 : 2, \\  2 : 1\\right\\}$"
      ],
      "text/plain": [
       "{1: 2, 2: 1}"
      ]
     },
     "execution_count": 59,
     "metadata": {},
     "output_type": "execute_result"
    }
   ],
   "source": [
    "sy.matrices.MatrixEigen.eigenvals(A)"
   ]
  },
  {
   "cell_type": "markdown",
   "metadata": {},
   "source": [
    "为了找到对应于 $\\lambda$ 的特征向量，我们将特征值代入 $(A-\\lambda I)x=0$ 并求解。 用 $\\lambda =1$ 构造增广矩阵并执行 rref 。"
   ]
  },
  {
   "cell_type": "code",
   "execution_count": 60,
   "metadata": {},
   "outputs": [
    {
     "data": {
      "image/png": "[encoded data removed]",
      "text/latex": [
       "$\\displaystyle \\left( \\left[\\begin{matrix}1 & -1 & 1 & 0\\\\0 & 0 & 0 & 0\\\\0 & 0 & 0 & 0\\end{matrix}\\right], \\  \\left( 0\\right)\\right)$"
      ],
      "text/plain": [
       "⎛⎡1  -1  1  0⎤      ⎞\n",
       "⎜⎢           ⎥      ⎟\n",
       "⎜⎢0  0   0  0⎥, (0,)⎟\n",
       "⎜⎢           ⎥      ⎟\n",
       "⎝⎣0  0   0  0⎦      ⎠"
      ]
     },
     "execution_count": 60,
     "metadata": {},
     "output_type": "execute_result"
    }
   ],
   "source": [
    "(A - 1*sy.eye(3)).row_join(sy.zeros(3,1)).rref()"
   ]
  },
  {
   "cell_type": "markdown",
   "metadata": {},
   "source": [
    "零空间是线性系统的解集。\n",
    "\n",
    "$$\n",
    "\\left[\n",
    "\\begin{matrix}\n",
    "x_1 \\\\ x_2 \\\\ x_3\n",
    "\\end{matrix}\n",
    "\\right]=\n",
    "\\left[\n",
    "\\begin{matrix}\n",
    "x_2-x_3 \\\\ x_2 \\\\ x_3\n",
    "\\end{matrix}\n",
    "\\right]=\n",
    "x_2\\left[\n",
    "\\begin{matrix}\n",
    "1 \\\\ 1 \\\\ 0\n",
    "\\end{matrix}\n",
    "\\right]\n",
    "+x_3\\left[\n",
    "\\begin{matrix}\n",
    "-1 \\\\ 0 \\\\ 1\n",
    "\\end{matrix}\n",
    "\\right]\n",
    "$$"
   ]
  },
  {
   "cell_type": "markdown",
   "metadata": {},
   "source": [
    "这被称为 $\\lambda = 1$ 的特征空间，也是 $\\mathbb{R}^3$ 的子空间。所有的特征向量都在特征空间里。\n",
    "\n",
    "我们也可以继续使用 $\\lambda = 2$ 。"
   ]
  },
  {
   "cell_type": "code",
   "execution_count": 61,
   "metadata": {},
   "outputs": [
    {
     "data": {
      "image/png": "[encoded data removed]",
      "text/latex": [
       "$\\displaystyle \\left( \\left[\\begin{matrix}1 & 0 & 0 & 0\\\\0 & 1 & - \\frac{1}{2} & 0\\\\0 & 0 & 0 & 0\\end{matrix}\\right], \\  \\left( 0, \\  1\\right)\\right)$"
      ],
      "text/plain": [
       "⎛⎡1  0   0    0⎤        ⎞\n",
       "⎜⎢             ⎥        ⎟\n",
       "⎜⎢0  1  -1/2  0⎥, (0, 1)⎟\n",
       "⎜⎢             ⎥        ⎟\n",
       "⎝⎣0  0   0    0⎦        ⎠"
      ]
     },
     "execution_count": 61,
     "metadata": {},
     "output_type": "execute_result"
    }
   ],
   "source": [
    "(A - 2*sy.eye(3)).row_join(sy.zeros(3,1)).rref()"
   ]
  },
  {
   "cell_type": "markdown",
   "metadata": {},
   "source": [
    "零空间是线性系统的解集。\n",
    "\n",
    "$$\n",
    "\\left[\n",
    "\\begin{matrix}\n",
    "x_1 \\\\ x_2 \\\\ x_3\n",
    "\\end{matrix}\n",
    "\\right]=\n",
    "\\left[\n",
    "\\begin{matrix}\n",
    "0\\\\ \\frac{1}{2}x_3\\\\ x_3\n",
    "\\end{matrix}\n",
    "\\right]=\n",
    "x_3\\left[\n",
    "\\begin{matrix}\n",
    "0 \\\\ \\frac{1}{2} \\\\ 1\n",
    "\\end{matrix}\n",
    "\\right]\n",
    "$$"
   ]
  },
  {
   "cell_type": "markdown",
   "metadata": {},
   "source": [
    "为了避免来回求解的麻烦，SymPy 有 ```eigenvects``` 来计算特征值和特征空间。"
   ]
  },
  {
   "cell_type": "code",
   "execution_count": 62,
   "metadata": {},
   "outputs": [
    {
     "data": {
      "image/png": "[encoded data removed]",
      "text/latex": [
       "$\\displaystyle \\left[ \\left( 1, \\  2, \\  \\left[ \\left[\\begin{matrix}1\\\\1\\\\0\\end{matrix}\\right], \\  \\left[\\begin{matrix}-1\\\\0\\\\1\\end{matrix}\\right]\\right]\\right), \\  \\left( 2, \\  1, \\  \\left[ \\left[\\begin{matrix}0\\\\\\frac{1}{2}\\\\1\\end{matrix}\\right]\\right]\\right)\\right]$"
      ],
      "text/plain": [
       "⎡⎛      ⎡⎡1⎤  ⎡-1⎤⎤⎞  ⎛      ⎡⎡ 0 ⎤⎤⎞⎤\n",
       "⎢⎜      ⎢⎢ ⎥  ⎢  ⎥⎥⎟  ⎜      ⎢⎢   ⎥⎥⎟⎥\n",
       "⎢⎜1, 2, ⎢⎢1⎥, ⎢0 ⎥⎥⎟, ⎜2, 1, ⎢⎢1/2⎥⎥⎟⎥\n",
       "⎢⎜      ⎢⎢ ⎥  ⎢  ⎥⎥⎟  ⎜      ⎢⎢   ⎥⎥⎟⎥\n",
       "⎣⎝      ⎣⎣0⎦  ⎣1 ⎦⎦⎠  ⎝      ⎣⎣ 1 ⎦⎦⎠⎦"
      ]
     },
     "execution_count": 62,
     "metadata": {},
     "output_type": "execute_result"
    }
   ],
   "source": [
    "eig = sy.matrices.MatrixEigen.eigenvects(A)\n",
    "eig"
   ]
  },
  {
   "cell_type": "markdown",
   "metadata": {},
   "source": [
    "为了使我们刚刚得到的结果更加清晰，"
   ]
  },
  {
   "cell_type": "code",
   "execution_count": 63,
   "metadata": {},
   "outputs": [
    {
     "name": "stdout",
     "output_type": "stream",
     "text": [
      "Eigenvalue = 1, Multiplicity = 2, Eigenspace = [Matrix([\n",
      "[1],\n",
      "[1],\n",
      "[0]]), Matrix([\n",
      "[-1],\n",
      "[ 0],\n",
      "[ 1]])]\n"
     ]
    }
   ],
   "source": [
    "print('Eigenvalue = {0}, Multiplicity = {1}, Eigenspace = {2}'.format(eig[0][0], eig[0][1], eig[0][2]))"
   ]
  },
  {
   "cell_type": "code",
   "execution_count": 64,
   "metadata": {},
   "outputs": [
    {
     "name": "stdout",
     "output_type": "stream",
     "text": [
      "Eigenvalue = 2, Multiplicity = 1, Eigenspace = [Matrix([\n",
      "[  0],\n",
      "[1/2],\n",
      "[  1]])]\n"
     ]
    }
   ],
   "source": [
    "print('Eigenvalue = {0}, Multiplicity = {1}, Eigenspace = {2}'.format(eig[1][0], eig[1][1], eig[1][2]))"
   ]
  },
  {
   "cell_type": "markdown",
   "metadata": {},
   "source": [
    "## <font face=\"gotham\" color=\"purple\"> 特征值和特征空间的 NumPy 函数"
   ]
  },
  {
   "cell_type": "markdown",
   "metadata": {},
   "source": [
    "将 SymPy 矩阵转换为 NumPy 浮点数组。"
   ]
  },
  {
   "cell_type": "code",
   "execution_count": 65,
   "metadata": {},
   "outputs": [
    {
     "data": {
      "text/plain": [
       "array([[ 1.,  0.,  0.],\n",
       "       [ 1.,  0.,  1.],\n",
       "       [ 2., -2.,  3.]])"
      ]
     },
     "execution_count": 65,
     "metadata": {},
     "output_type": "execute_result"
    }
   ],
   "source": [
    "A = np.array(A).astype(float); A"
   ]
  },
  {
   "cell_type": "markdown",
   "metadata": {},
   "source": [
    "```.eigvals()``` 和 ```.eig(A)``` 是方便求解特征值和特征向量的函数。"
   ]
  },
  {
   "cell_type": "code",
   "execution_count": 66,
   "metadata": {},
   "outputs": [
    {
     "data": {
      "text/plain": [
       "array([2., 1., 1.])"
      ]
     },
     "execution_count": 66,
     "metadata": {},
     "output_type": "execute_result"
    }
   ],
   "source": [
    "np.linalg.eigvals(A) "
   ]
  },
  {
   "cell_type": "code",
   "execution_count": 67,
   "metadata": {},
   "outputs": [
    {
     "data": {
      "text/plain": [
       "(array([2., 1., 1.]), array([[ 0.   ,  0.   ,  0.408],\n",
       "        [ 0.447,  0.707, -0.408],\n",
       "        [ 0.894,  0.707, -0.816]]))"
      ]
     },
     "execution_count": 67,
     "metadata": {},
     "output_type": "execute_result"
    }
   ],
   "source": [
    "np.linalg.eig(A) #return both eigenvalues and eigenvectors"
   ]
  },
  {
   "cell_type": "markdown",
   "metadata": {},
   "source": [
    "## <font face=\"gotham\" color=\"purple\"> 举例"
   ]
  },
  {
   "cell_type": "markdown",
   "metadata": {},
   "source": [
    "考虑一个矩阵 $A$"
   ]
  },
  {
   "cell_type": "code",
   "execution_count": 68,
   "metadata": {},
   "outputs": [
    {
     "data": {
      "image/png": "[encoded data removed]",
      "text/latex": [
       "$\\displaystyle \\left[\\begin{matrix}-4 & -4 & 20 & -8 & -1\\\\14 & 12 & 46 & 18 & 2\\\\6 & 4 & -18 & 8 & 1\\\\11 & 7 & -37 & 17 & 2\\\\18 & 12 & -60 & 24 & 5\\end{matrix}\\right]$"
      ],
      "text/plain": [
       "⎡-4  -4  20   -8  -1⎤\n",
       "⎢                   ⎥\n",
       "⎢14  12  46   18  2 ⎥\n",
       "⎢                   ⎥\n",
       "⎢6   4   -18  8   1 ⎥\n",
       "⎢                   ⎥\n",
       "⎢11  7   -37  17  2 ⎥\n",
       "⎢                   ⎥\n",
       "⎣18  12  -60  24  5 ⎦"
      ]
     },
     "execution_count": 68,
     "metadata": {},
     "output_type": "execute_result"
    }
   ],
   "source": [
    "A = sy.Matrix([[-4, -4, 20, -8, -1], \n",
    "               [14, 12, 46, 18, 2], \n",
    "               [6, 4, -18, 8, 1], \n",
    "               [11, 7, -37, 17, 2], \n",
    "               [18, 12, -60, 24, 5]])\n",
    "A"
   ]
  },
  {
   "cell_type": "markdown",
   "metadata": {},
   "source": [
    "求解特征值。"
   ]
  },
  {
   "cell_type": "code",
   "execution_count": 69,
   "metadata": {},
   "outputs": [
    {
     "data": {
      "image/png": "[encoded data removed]",
      "text/latex": [
       "$\\displaystyle \\left\\{ 2 : 2, \\  3 : 1, \\  \\frac{5}{2} - \\frac{\\sqrt{1473}}{2} : 1, \\  \\frac{5}{2} + \\frac{\\sqrt{1473}}{2} : 1\\right\\}$"
      ],
      "text/plain": [
       "⎧            5   √1473     5   √1473   ⎫\n",
       "⎨2: 2, 3: 1, ─ - ─────: 1, ─ + ─────: 1⎬\n",
       "⎩            2     2       2     2     ⎭"
      ]
     },
     "execution_count": 69,
     "metadata": {},
     "output_type": "execute_result"
    }
   ],
   "source": [
    "eig = sy.matrices.MatrixEigen.eigenvals(A)\n",
    "eig"
   ]
  },
  {
   "cell_type": "markdown",
   "metadata": {},
   "source": [
    "或者使用 NumPy 函数显示特征值。"
   ]
  },
  {
   "cell_type": "code",
   "execution_count": 70,
   "metadata": {},
   "outputs": [
    {
     "data": {
      "text/plain": [
       "array([ 21.69, -16.69,   3.  ,   2.  ,   2.  ])"
      ]
     },
     "execution_count": 70,
     "metadata": {},
     "output_type": "execute_result"
    }
   ],
   "source": [
    "A = np.array(A)\n",
    "A = A.astype(float)\n",
    "eigval, eigvec = np.linalg.eig(A)\n",
    "eigval"
   ]
  },
  {
   "cell_type": "markdown",
   "metadata": {},
   "source": [
    "以及相应的特征向量。"
   ]
  },
  {
   "cell_type": "code",
   "execution_count": 71,
   "metadata": {},
   "outputs": [
    {
     "data": {
      "text/plain": [
       "array([[-0.124, -0.224, -0.   ,  0.816, -0.056],\n",
       "       [ 0.886, -0.543, -0.894, -0.408,  0.263],\n",
       "       [ 0.124,  0.224,  0.   , -0.   , -0.   ],\n",
       "       [ 0.216,  0.392,  0.447, -0.408, -0.207],\n",
       "       [ 0.371,  0.672, -0.   ,  0.   ,  0.941]])"
      ]
     },
     "execution_count": 71,
     "metadata": {},
     "output_type": "execute_result"
    }
   ],
   "source": [
    "eigvec"
   ]
  }
 ],
 "metadata": {
  "kernelspec": {
   "display_name": "Python 3 (ipykernel)",
   "language": "python",
   "name": "python3"
  },
  "language_info": {
   "codemirror_mode": {
    "name": "ipython",
    "version": 3
   },
   "file_extension": ".py",
   "mimetype": "text/x-python",
   "name": "python",
   "nbconvert_exporter": "python",
   "pygments_lexer": "ipython3",
   "version": "3.9.9"
  },
  "toc": {
   "base_numbering": 1,
   "nav_menu": {},
   "number_sections": true,
   "sideBar": true,
   "skip_h1_title": false,
   "title_cell": "Table of Contents",
   "title_sidebar": "Contents",
   "toc_cell": false,
   "toc_position": {},
   "toc_section_display": true,
   "toc_window_display": false
  }
 },
 "nbformat": 4,
 "nbformat_minor": 4
}
